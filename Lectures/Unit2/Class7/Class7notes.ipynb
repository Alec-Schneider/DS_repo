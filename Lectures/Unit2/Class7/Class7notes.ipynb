{
 "cells": [
  {
   "cell_type": "code",
   "execution_count": 1,
   "metadata": {},
   "outputs": [],
   "source": [
    "import pandas as pd"
   ]
  },
  {
   "cell_type": "code",
   "execution_count": 2,
   "metadata": {},
   "outputs": [
    {
     "data": {
      "text/html": [
       "<div>\n",
       "<style scoped>\n",
       "    .dataframe tbody tr th:only-of-type {\n",
       "        vertical-align: middle;\n",
       "    }\n",
       "\n",
       "    .dataframe tbody tr th {\n",
       "        vertical-align: top;\n",
       "    }\n",
       "\n",
       "    .dataframe thead th {\n",
       "        text-align: right;\n",
       "    }\n",
       "</style>\n",
       "<table border=\"1\" class=\"dataframe\">\n",
       "  <thead>\n",
       "    <tr style=\"text-align: right;\">\n",
       "      <th></th>\n",
       "      <th>Date</th>\n",
       "      <th>AAPL</th>\n",
       "      <th>GOOGL</th>\n",
       "      <th>FB</th>\n",
       "      <th>MSFT</th>\n",
       "      <th>AMZN</th>\n",
       "    </tr>\n",
       "  </thead>\n",
       "  <tbody>\n",
       "    <tr>\n",
       "      <th>0</th>\n",
       "      <td>2014-11-05</td>\n",
       "      <td>108.860001</td>\n",
       "      <td>555.950012</td>\n",
       "      <td>74.830002</td>\n",
       "      <td>47.860001</td>\n",
       "      <td>296.519989</td>\n",
       "    </tr>\n",
       "    <tr>\n",
       "      <th>1</th>\n",
       "      <td>2014-11-06</td>\n",
       "      <td>108.699997</td>\n",
       "      <td>551.690002</td>\n",
       "      <td>75.260002</td>\n",
       "      <td>48.700001</td>\n",
       "      <td>296.640015</td>\n",
       "    </tr>\n",
       "    <tr>\n",
       "      <th>2</th>\n",
       "      <td>2014-11-07</td>\n",
       "      <td>109.010002</td>\n",
       "      <td>551.820007</td>\n",
       "      <td>75.599998</td>\n",
       "      <td>48.680000</td>\n",
       "      <td>299.859985</td>\n",
       "    </tr>\n",
       "    <tr>\n",
       "      <th>3</th>\n",
       "      <td>2014-11-10</td>\n",
       "      <td>108.830002</td>\n",
       "      <td>558.229980</td>\n",
       "      <td>75.000000</td>\n",
       "      <td>48.889999</td>\n",
       "      <td>305.109985</td>\n",
       "    </tr>\n",
       "    <tr>\n",
       "      <th>4</th>\n",
       "      <td>2014-11-11</td>\n",
       "      <td>109.699997</td>\n",
       "      <td>561.289978</td>\n",
       "      <td>74.610001</td>\n",
       "      <td>48.869999</td>\n",
       "      <td>312.010010</td>\n",
       "    </tr>\n",
       "  </tbody>\n",
       "</table>\n",
       "</div>"
      ],
      "text/plain": [
       "         Date        AAPL       GOOGL         FB       MSFT        AMZN\n",
       "0  2014-11-05  108.860001  555.950012  74.830002  47.860001  296.519989\n",
       "1  2014-11-06  108.699997  551.690002  75.260002  48.700001  296.640015\n",
       "2  2014-11-07  109.010002  551.820007  75.599998  48.680000  299.859985\n",
       "3  2014-11-10  108.830002  558.229980  75.000000  48.889999  305.109985\n",
       "4  2014-11-11  109.699997  561.289978  74.610001  48.869999  312.010010"
      ]
     },
     "execution_count": 2,
     "metadata": {},
     "output_type": "execute_result"
    }
   ],
   "source": [
    "stocks = pd.read_csv('data/stocks.csv')\n",
    "stocks.head()"
   ]
  },
  {
   "cell_type": "code",
   "execution_count": 9,
   "metadata": {},
   "outputs": [
    {
     "data": {
      "image/png": "[encoded data removed]",
      "text/plain": [
       "<Figure size 432x288 with 1 Axes>"
      ]
     },
     "metadata": {
      "needs_background": "light"
     },
     "output_type": "display_data"
    }
   ],
   "source": [
    "stocks.rolling(200).mean().plot(title='200 Day MA');"
   ]
  },
  {
   "cell_type": "code",
   "execution_count": null,
   "metadata": {},
   "outputs": [],
   "source": []
  },
  {
   "cell_type": "code",
   "execution_count": null,
   "metadata": {},
   "outputs": [],
   "source": []
  },
  {
   "cell_type": "code",
   "execution_count": null,
   "metadata": {},
   "outputs": [],
   "source": []
  }
 ],
 "metadata": {
  "kernelspec": {
   "display_name": "Python 3",
   "language": "python",
   "name": "python3"
  },
  "language_info": {
   "codemirror_mode": {
    "name": "ipython",
    "version": 3
   },
   "file_extension": ".py",
   "mimetype": "text/x-python",
   "name": "python",
   "nbconvert_exporter": "python",
   "pygments_lexer": "ipython3",
   "version": "3.6.5"
  }
 },
 "nbformat": 4,
 "nbformat_minor": 4
}
