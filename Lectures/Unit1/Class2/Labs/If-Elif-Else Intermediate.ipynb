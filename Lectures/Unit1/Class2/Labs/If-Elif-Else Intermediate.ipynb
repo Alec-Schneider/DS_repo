{
 "cells": [
  {
   "cell_type": "markdown",
   "metadata": {},
   "source": [
    "## If-Elif-Else:  Intermediate\n",
    "\n",
    "This notebook contains prompts that ask you to make a number of comparisons between different variables.  "
   ]
  },
  {
   "cell_type": "markdown",
   "metadata": {},
   "source": [
    "---\n",
    "\n",
    "### 1). Write an `if… else` statement for multiple conditions.\n",
    "\n",
    "Print out these recommendations based on the weather conditions:\n",
    "\n",
    "1. The temperature is higher than 60 degrees and it is raining: Bring an umbrella.\n",
    "2. The temperature is lower than or equal to 60 degrees and it is raining: Bring an umbrella and a jacket.\n",
    "3. The temperature is higher than 60 degrees and the sun is shining: Wear a T-shirt.\n",
    "4. The temperature is lower than or equal to 60 degrees and the sun is shining: Bring a jacket."
   ]
  },
  {
   "cell_type": "code",
   "execution_count": 4,
   "metadata": {},
   "outputs": [
    {
     "name": "stdout",
     "output_type": "stream",
     "text": [
      "Bring an umbrella and a jacket\n"
     ]
    }
   ],
   "source": [
    "rec = None\n",
    "temp = 60\n",
    "weath = 'raining'\n",
    "if temp > 60:\n",
    "    if weath == 'sunny':\n",
    "        rec = 'Wear a T-shirt'\n",
    "    elif weath == 'raining':\n",
    "        rec = 'Bring an umbrella'\n",
    "else:\n",
    "    if weath == 'sunny':\n",
    "        rec = 'Bring a jacket'\n",
    "    elif weath == 'raining':\n",
    "        rec = 'Bring an umbrella and a jacket'\n",
    "print(rec)"
   ]
  },
  {
   "cell_type": "markdown",
   "metadata": {},
   "source": [
    "### 2). Fizz......buzz.\n",
    "\n",
    "Create an `if` statement that does the following:\n",
    "\n",
    "1. If a number is divisible by 3, print \"fizz.\"\n",
    "2. If a number is divisible by 5, print \"buzz.\" \n",
    "3. If a number is both divisible by 3 and by 5, print \"fizzbuzz.\"\n",
    "4. Otherwise, print just the number.\n",
    "\n",
    "Test it on different numbers to make sure you did it correctly."
   ]
  },
  {
   "cell_type": "code",
   "execution_count": 8,
   "metadata": {},
   "outputs": [
    {
     "name": "stdin",
     "output_type": "stream",
     "text": [
      "Please enter number:  15\n"
     ]
    },
    {
     "name": "stdout",
     "output_type": "stream",
     "text": [
      "fizzbuzz\n"
     ]
    }
   ],
   "source": [
    "num = int(input('Please enter number: '))\n",
    "\n",
    "if  (num % 5 == 0)  and (num % 3 == 0):\n",
    "    print('fizzbuzz')\n",
    "elif num % 3 == 0:\n",
    "    print('fizz')\n",
    "elif num % 5 == 0:\n",
    "    print('buzz')\n",
    "else:\n",
    "    print(num)"
   ]
  },
  {
   "cell_type": "markdown",
   "metadata": {},
   "source": [
    "### 3).  Evaluating a password\n",
    "\n",
    "Now we're going to try and create a prompt that tests a password for the following conditions:\n",
    "\n",
    " - It contains only alpha numeric characters (no special characters)\n",
    " - It contains at least one number\n",
    " - It isn't all numbers\n",
    " \n",
    "If they formatted it correctly, then tell them so.  If they didn't, tell them what they did wrong.\n",
    " \n",
    "**Hint**:  here are some useful string methods to look at:  `isalnum(), isdigit(), isalpha().`  Test them and see how they do and do not evaluate to True and False.\n",
    "\n",
    "You can read more about them here:  https://www.programiz.com/python-programming/methods/string\n",
    "\n",
    "**Test Case**: Try the following passwords to make sure it works:\n",
    "\n",
    " - 'password'  (incorrect - no numbers)\n",
    " - 'password!' (incorrect - special characters)\n",
    " - 'password1' (correct)\n",
    " - '182837576' (incorrect - contains all numbers)"
   ]
  },
  {
   "cell_type": "code",
   "execution_count": 22,
   "metadata": {},
   "outputs": [
    {
     "name": "stdout",
     "output_type": "stream",
     "text": [
      "Passwod good to go! password1\n"
     ]
    }
   ],
   "source": [
    "pwds = ['password', 'password!', 'password1', '182837576']\n",
    "for pwd in pwds:\n",
    "    trues = []\n",
    "    if pwd.isalnum():\n",
    "        trues.append(True)\n",
    "    for x in pwd:\n",
    "        if x.isdigit():\n",
    "            trues.append(True)\n",
    "            break\n",
    "    for y in pwd:\n",
    "        if y.isalpha():\n",
    "            trues.append(True)\n",
    "            break\n",
    "    if len(trues) == 3:\n",
    "        print(\"Passwod good to go!\", pwd)\n",
    "    "
   ]
  },
  {
   "cell_type": "code",
   "execution_count": 24,
   "metadata": {},
   "outputs": [
    {
     "name": "stdout",
     "output_type": "stream",
     "text": [
      "True\n",
      "False\n",
      "True\n"
     ]
    }
   ],
   "source": [
    "print('182837576'.isdigit())\n",
    "print('182837576'.isalpha())\n",
    "print('182837576'.isalnum())"
   ]
  },
  {
   "cell_type": "code",
   "execution_count": 26,
   "metadata": {},
   "outputs": [
    {
     "name": "stdout",
     "output_type": "stream",
     "text": [
      "Passwod good to go! password1\n"
     ]
    }
   ],
   "source": [
    "for pwd in pwds:\n",
    "    if pwd.isalnum():\n",
    "        if not pwd.isdigit():\n",
    "            if not pwd.isalpha():\n",
    "                print(\"Passwod good to go!\", pwd)\n",
    "            else:\n",
    "                print('Please use atleast one number')\n",
    "        else:\n",
    "            print('Please use atleast one letter')\n",
    "    else:\n",
    "        print('Please do not use special characters')\n",
    "    "
   ]
  },
  {
   "cell_type": "code",
   "execution_count": 27,
   "metadata": {},
   "outputs": [
    {
     "name": "stdout",
     "output_type": "stream",
     "text": [
      "Passwod good to go! password1\n"
     ]
    }
   ],
   "source": [
    "for pwd in pwds:\n",
    "    if pwd.isalnum() and not pwd.isdigit() and not pwd.isalpha():\n",
    "            print(\"Passwod good to go!\", pwd)\n",
    "    else:\n",
    "        print('')"
   ]
  },
  {
   "cell_type": "code",
   "execution_count": 28,
   "metadata": {},
   "outputs": [],
   "source": [
    "# Create dict that counts how many times a number appears\n",
    "dlist = [1, 1, 2, 3, 4, 1, 4, 5, 2]\n",
    "d = {}\n",
    "for i in dlist:s\n",
    "    d[str(i)] = d.get(str(i), 0) + 1"
   ]
  },
  {
   "cell_type": "code",
   "execution_count": 29,
   "metadata": {},
   "outputs": [
    {
     "data": {
      "text/plain": [
       "{'1': 3, '2': 2, '3': 1, '4': 2, '5': 1}"
      ]
     },
     "execution_count": 29,
     "metadata": {},
     "output_type": "execute_result"
    }
   ],
   "source": [
    "d"
   ]
  },
  {
   "cell_type": "code",
   "execution_count": 31,
   "metadata": {},
   "outputs": [
    {
     "name": "stdout",
     "output_type": "stream",
     "text": [
      "Count of numbers in dlist:\n",
      "1 ==> 3\n",
      "2 ==> 2\n",
      "3 ==> 1\n",
      "4 ==> 2\n",
      "5 ==> 1\n"
     ]
    }
   ],
   "source": [
    "print(\"Count of numbers in dlist:\")\n",
    "for key, vals in d.items():\n",
    "    print(key, '==>', vals)"
   ]
  },
  {
   "cell_type": "code",
   "execution_count": null,
   "metadata": {},
   "outputs": [],
   "source": []
  }
 ],
 "metadata": {
  "kernelspec": {
   "display_name": "Python 3",
   "language": "python",
   "name": "python3"
  },
  "language_info": {
   "codemirror_mode": {
    "name": "ipython",
    "version": 3
   },
   "file_extension": ".py",
   "mimetype": "text/x-python",
   "name": "python",
   "nbconvert_exporter": "python",
   "pygments_lexer": "ipython3",
   "version": "3.6.5"
  }
 },
 "nbformat": 4,
 "nbformat_minor": 4
}
