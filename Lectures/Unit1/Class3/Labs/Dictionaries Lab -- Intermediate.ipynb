{
 "cells": [
  {
   "cell_type": "markdown",
   "metadata": {},
   "source": [
    "## Intermediate Lab:  Creating A Dataset Using the GitHub API\n",
    "\n",
    "In this lab you'll create a dataset containing all the meta information about your classmates github repos, using only the csv file with everyone's url.  \n",
    "\n",
    "The process will be done in these 4 general steps:\n",
    "\n",
    " - load in the csv file\n",
    " - clean the individual lines of each file to get them ready to use\n",
    " - connect to the GitHub api to obtain information about everyone's repos\n",
    " - re-structure this information to turn it into a dataframe.\n",
    " \n",
    "It'll be a great way to work through the first step of many data science problems: creating a workable dataset out of unorganized, messy data.  Let's get started!"
   ]
  },
  {
   "cell_type": "markdown",
   "metadata": {},
   "source": [
    "### Step 1:  Load in the csv file with everyone's github repo\n",
    "\n",
    "**Note:** There are a number of ways to do this, but the easiest way is usually this:\n",
    "\n",
    "    `with open('file.csv') as f:\n",
    "\n",
    "        data = f.readlines()`"
   ]
  },
  {
   "cell_type": "code",
   "execution_count": 1,
   "metadata": {},
   "outputs": [],
   "source": [
    "with open('../GitHub Repos.csv', 'r') as f:\n",
    "    lines = f.readlines()"
   ]
  },
  {
   "cell_type": "markdown",
   "metadata": {},
   "source": [
    "What you should have now is a list, and each item is a string that contains the comma separated values of each cell in the row of that csv file.  \n",
    "\n",
    "It should generically look like this:\n",
    "\n",
    "    `['Name,Repo\\n',\n",
    "      'Person 1,https://github.com/username\\n',\n",
    "      'Person 2,https://github.com/username\\n',\n",
    "       ......\n",
    "       ]`\n",
    "\n",
    "Double check this is the case."
   ]
  },
  {
   "cell_type": "code",
   "execution_count": 2,
   "metadata": {},
   "outputs": [
    {
     "data": {
      "text/plain": [
       "['Name,Repo\\n',\n",
       " 'Jonathan Bechtel,https://github.com/JonathanBechtel\\n',\n",
       " 'Aoife Duna,https://github.com/aoifeduna\\n',\n",
       " 'Christos Simos,https://github.com/simoschr\\n',\n",
       " 'Brittani Kauf,https://github.com/brittanikauf\\n',\n",
       " 'Stanford Turner,https://github.com/sturner08\\n',\n",
       " 'Shelly Seroussi,https://github.com/sturner08\\n',\n",
       " 'Shela Wu,https://github.com/misowu\\n',\n",
       " 'Rishabh Chandra,https://github.com/rishabhchandra35\\n',\n",
       " '\"Behrang \"\"Brian\"\" Bidadi\",https://github.com/brianb888\\n',\n",
       " 'Alec Schneider,https://github.com/Blitz33697\\n',\n",
       " 'Taku Takamatsu,https://github.com/taku-takamatsu\\n',\n",
       " 'Lindsey Gumann,https://github.com/lgumann\\n',\n",
       " 'David Hurley,https://github.com/davehurl\\n',\n",
       " 'Kina Abe,https://github.com/kinaabe57\\n',\n",
       " 'Elyse Chu,https://github.com/elysechu\\n',\n",
       " 'Michael Lawlor,https://github.com/lawlormj/sample_work\\n',\n",
       " 'Emily Lam,https://github.com/emilylam98\\n',\n",
       " 'Mike Golodner,https://github.com/mgolodner/ga_repo.git\\n',\n",
       " 'Siddharth Uppal,https://github.com/sid25393']"
      ]
     },
     "execution_count": 2,
     "metadata": {},
     "output_type": "execute_result"
    }
   ],
   "source": [
    "lines\n"
   ]
  },
  {
   "cell_type": "markdown",
   "metadata": {},
   "source": [
    "The only thing we need out of each item is the persons username, that part contained in the string at: `https://github.com/username_here`.  Everything else is junk.  \n",
    "\n",
    "We'll need to go through a few steps to get our info down to a usable format.  "
   ]
  },
  {
   "cell_type": "markdown",
   "metadata": {},
   "source": [
    "### Step 2: Remove the `\\n` from each item in the list, as well as the item that contains the header info.\n",
    "\n",
    "When you're done you should have a list that looks like this:\n",
    "\n",
    "      `[\n",
    "      'Person 1,https://github.com/username',\n",
    "      'Person 2,https://github.com/username',\n",
    "       ......\n",
    "       ]`\n",
    "\n",
    "**hint:** The `replace()` method for strings is probably one of the more useful options that you have.  If you want to replace something with nothing, you can simply specify `\"\"` for that part."
   ]
  },
  {
   "cell_type": "code",
   "execution_count": 4,
   "metadata": {},
   "outputs": [],
   "source": [
    "lines = [line.rstrip() for line in lines[1:]]\n"
   ]
  },
  {
   "cell_type": "markdown",
   "metadata": {},
   "source": [
    "### Step 3:  Separate the url in each string from everything else\n",
    "\n",
    "When you're done you should have a new list that looks like this:\n",
    "\n",
    "    `[\n",
    "       'https://github.com/username',\n",
    "       'https://github.com/username',\n",
    "       ...\n",
    "     ]`\n",
    "     \n",
    "**hint:** The `split()` method will help you out here."
   ]
  },
  {
   "cell_type": "code",
   "execution_count": 7,
   "metadata": {},
   "outputs": [
    {
     "data": {
      "text/plain": [
       "['https://github.com/JonathanBechtel',\n",
       " 'https://github.com/aoifeduna',\n",
       " 'https://github.com/simoschr',\n",
       " 'https://github.com/brittanikauf',\n",
       " 'https://github.com/sturner08',\n",
       " 'https://github.com/sturner08',\n",
       " 'https://github.com/misowu',\n",
       " 'https://github.com/rishabhchandra35',\n",
       " 'https://github.com/brianb888',\n",
       " 'https://github.com/Blitz33697',\n",
       " 'https://github.com/taku-takamatsu',\n",
       " 'https://github.com/lgumann',\n",
       " 'https://github.com/davehurl',\n",
       " 'https://github.com/kinaabe57',\n",
       " 'https://github.com/elysechu',\n",
       " 'https://github.com/lawlormj/sample_work',\n",
       " 'https://github.com/emilylam98',\n",
       " 'https://github.com/mgolodner/ga_repo.git',\n",
       " 'https://github.com/sid25393']"
      ]
     },
     "execution_count": 7,
     "metadata": {},
     "output_type": "execute_result"
    }
   ],
   "source": [
    "urls = [line.split(',')[-1] for line in lines]\n",
    "urls"
   ]
  },
  {
   "cell_type": "markdown",
   "metadata": {},
   "source": [
    "### Step 4:  Separate the username in each string from everything else\n",
    "\n",
    "When you're done you should have a new list that looks like this:\n",
    "\n",
    "    `[\n",
    "       'username1',\n",
    "       'username2',\n",
    "       ...\n",
    "     ]`"
   ]
  },
  {
   "cell_type": "code",
   "execution_count": 10,
   "metadata": {},
   "outputs": [
    {
     "data": {
      "text/plain": [
       "['JonathanBechtel',\n",
       " 'aoifeduna',\n",
       " 'simoschr',\n",
       " 'brittanikauf',\n",
       " 'sturner08',\n",
       " 'sturner08',\n",
       " 'misowu',\n",
       " 'rishabhchandra35',\n",
       " 'brianb888',\n",
       " 'Blitz33697',\n",
       " 'taku-takamatsu',\n",
       " 'lgumann',\n",
       " 'davehurl',\n",
       " 'kinaabe57',\n",
       " 'elysechu',\n",
       " 'lawlormj',\n",
       " 'emilylam98',\n",
       " 'mgolodner',\n",
       " 'sid25393']"
      ]
     },
     "execution_count": 10,
     "metadata": {},
     "output_type": "execute_result"
    }
   ],
   "source": [
    "users = [name.split('/')[3] for name in urls]\n",
    "users"
   ]
  },
  {
   "cell_type": "markdown",
   "metadata": {},
   "source": [
    "### Step 5: Obtain the repo data for every single github username\n",
    "\n",
    "The repository info for every single public account is available via the following url: `https://api.github.com/users/:the_username/repos`\n",
    "\n",
    "So basically, `requests.get('https://api.github.com/users/:the_username/repos').json()` will return a list filled with every single repo that user has.  \n",
    "\n",
    "When you're done, you should have a *list of lists*, with each list containing each users individual repos.  It'll look like this:\n",
    "\n",
    "`[[{user1, repo1}, {user1, repo2}], [{user2, repo1}], [{user3, repo1}, {user3, repo2}, {user3, repo3}], .....]`"
   ]
  },
  {
   "cell_type": "code",
   "execution_count": 13,
   "metadata": {},
   "outputs": [],
   "source": [
    "import requests\n",
    "api_url = 'https://api.github.com/users/'\n",
    "user_repos = [requests.get(api_url + user + '/repos').json() for user in users[:5]]"
   ]
  },
  {
   "cell_type": "code",
   "execution_count": 18,
   "metadata": {},
   "outputs": [
    {
     "data": {
      "text/plain": [
       "5"
      ]
     },
     "execution_count": 18,
     "metadata": {},
     "output_type": "execute_result"
    }
   ],
   "source": [
    "len(user_repos)"
   ]
  },
  {
   "cell_type": "markdown",
   "metadata": {},
   "source": [
    "### Step 6: Create a 'flat' list that contains every unique repo for every single user\n",
    "\n",
    "When you're done you should have a list that looks like this: `[{user1 repo1}, {user1 repo2}, ....{user n, repo m}]`\n",
    "\n",
    "Ie, no nested levels like you had before."
   ]
  },
  {
   "cell_type": "code",
   "execution_count": 22,
   "metadata": {},
   "outputs": [
    {
     "name": "stdout",
     "output_type": "stream",
     "text": [
      "25\n",
      "3\n",
      "1\n",
      "12\n",
      "4\n"
     ]
    }
   ],
   "source": [
    "for i in range(len(user_repos)):\n",
    "    print(len(user_repos[i]))\n"
   ]
  },
  {
   "cell_type": "code",
   "execution_count": 28,
   "metadata": {},
   "outputs": [],
   "source": [
    "# nested for loops to flatten the user_repos\n",
    "# flat_repos = []\n",
    "# for repos in user_repors:\n",
    "#     for repo in repos:\n",
    "#         flat_repos.append(repo)\n",
    "flat_repos = [repo for repos in user_repos for repo in repos]"
   ]
  },
  {
   "cell_type": "markdown",
   "metadata": {},
   "source": [
    "### Step 7:  Get information about the name, owner, url, and date of every single repo.\n",
    "\n",
    "In the dictionary for each repo there are keys called `name`, `login`, `html_url`, and `created_at`.  These are going to populate the values for our different columns.\n",
    "\n",
    "Values for each one of these keys will need to exist inside their own lists.\n",
    "\n",
    "**hint:** Notice that the `login` key is nested inside a dictionary that's the value to the `owner` key at the outer level."
   ]
  },
  {
   "cell_type": "code",
   "execution_count": 30,
   "metadata": {},
   "outputs": [
    {
     "data": {
      "text/plain": [
       "['JonathanBechtel',\n",
       " 'JonathanBechtel',\n",
       " 'JonathanBechtel',\n",
       " 'JonathanBechtel',\n",
       " 'JonathanBechtel',\n",
       " 'JonathanBechtel',\n",
       " 'JonathanBechtel',\n",
       " 'JonathanBechtel',\n",
       " 'JonathanBechtel',\n",
       " 'JonathanBechtel',\n",
       " 'JonathanBechtel',\n",
       " 'JonathanBechtel',\n",
       " 'JonathanBechtel',\n",
       " 'JonathanBechtel',\n",
       " 'JonathanBechtel',\n",
       " 'JonathanBechtel',\n",
       " 'JonathanBechtel',\n",
       " 'JonathanBechtel',\n",
       " 'JonathanBechtel',\n",
       " 'JonathanBechtel',\n",
       " 'JonathanBechtel',\n",
       " 'JonathanBechtel',\n",
       " 'JonathanBechtel',\n",
       " 'JonathanBechtel',\n",
       " 'JonathanBechtel',\n",
       " 'aoifeduna',\n",
       " 'aoifeduna',\n",
       " 'aoifeduna',\n",
       " 'simoschr',\n",
       " 'brittanikauf',\n",
       " 'brittanikauf',\n",
       " 'brittanikauf',\n",
       " 'brittanikauf',\n",
       " 'brittanikauf',\n",
       " 'brittanikauf',\n",
       " 'brittanikauf',\n",
       " 'brittanikauf',\n",
       " 'brittanikauf',\n",
       " 'brittanikauf',\n",
       " 'brittanikauf',\n",
       " 'brittanikauf',\n",
       " 'sturner08',\n",
       " 'sturner08',\n",
       " 'sturner08',\n",
       " 'sturner08']"
      ]
     },
     "execution_count": 30,
     "metadata": {},
     "output_type": "execute_result"
    }
   ],
   "source": [
    "owners = [repo['owner']['login'] for repo in flat_repos]\n",
    "names = [repo['name'] for repo in flat_repos]\n",
    "urls = [repo['html_url'] for repo in flat_repos]\n",
    "dates = [repo['created_at'] for repo in flat_repos]\n",
    "owners"
   ]
  },
  {
   "cell_type": "markdown",
   "metadata": {},
   "source": [
    "### Step 8:  Create a dictionary with the data created from step 7\n",
    "\n",
    "Your final output should look like this:\n",
    "\n",
    "    `{\n",
    "       'Owner': [list with the `login` values],\n",
    "       'Name' : [list with the `name` values],\n",
    "       'URL'  : [list with the `html_url` values],\n",
    "       'Date' : [list with the `created_at` values]\n",
    "     }`"
   ]
  },
  {
   "cell_type": "code",
   "execution_count": 32,
   "metadata": {},
   "outputs": [
    {
     "data": {
      "text/plain": [
       "{'Owner': ['JonathanBechtel',\n",
       "  'JonathanBechtel',\n",
       "  'JonathanBechtel',\n",
       "  'JonathanBechtel',\n",
       "  'JonathanBechtel',\n",
       "  'JonathanBechtel',\n",
       "  'JonathanBechtel',\n",
       "  'JonathanBechtel',\n",
       "  'JonathanBechtel',\n",
       "  'JonathanBechtel',\n",
       "  'JonathanBechtel',\n",
       "  'JonathanBechtel',\n",
       "  'JonathanBechtel',\n",
       "  'JonathanBechtel',\n",
       "  'JonathanBechtel',\n",
       "  'JonathanBechtel',\n",
       "  'JonathanBechtel',\n",
       "  'JonathanBechtel',\n",
       "  'JonathanBechtel',\n",
       "  'JonathanBechtel',\n",
       "  'JonathanBechtel',\n",
       "  'JonathanBechtel',\n",
       "  'JonathanBechtel',\n",
       "  'JonathanBechtel',\n",
       "  'JonathanBechtel',\n",
       "  'aoifeduna',\n",
       "  'aoifeduna',\n",
       "  'aoifeduna',\n",
       "  'simoschr',\n",
       "  'brittanikauf',\n",
       "  'brittanikauf',\n",
       "  'brittanikauf',\n",
       "  'brittanikauf',\n",
       "  'brittanikauf',\n",
       "  'brittanikauf',\n",
       "  'brittanikauf',\n",
       "  'brittanikauf',\n",
       "  'brittanikauf',\n",
       "  'brittanikauf',\n",
       "  'brittanikauf',\n",
       "  'brittanikauf',\n",
       "  'sturner08',\n",
       "  'sturner08',\n",
       "  'sturner08',\n",
       "  'sturner08'],\n",
       " 'Name': ['cdc-dashboard',\n",
       "  'DAT-01-21',\n",
       "  'DAT-06-24',\n",
       "  'DAT-10-14',\n",
       "  'data',\n",
       "  'Data-Analysis',\n",
       "  'easyml',\n",
       "  'formula-app',\n",
       "  'formula-calculator',\n",
       "  'formula-generator',\n",
       "  'google-quest',\n",
       "  'Kaggle',\n",
       "  'ltcv',\n",
       "  'ml-app',\n",
       "  'ML-From-Scratch',\n",
       "  'ml-web-app',\n",
       "  'My-DAT-repo',\n",
       "  'my-repo',\n",
       "  'practical-time-series-analysis',\n",
       "  'sample-repo',\n",
       "  'sample-repo2',\n",
       "  'stochastic-processes',\n",
       "  'superfood-picker',\n",
       "  'total-gross',\n",
       "  'website',\n",
       "  'aoiferepo',\n",
       "  'atom',\n",
       "  'example1',\n",
       "  'example1',\n",
       "  'd3-challenge',\n",
       "  'DAT-01',\n",
       "  'ETL_Project',\n",
       "  'homeworks',\n",
       "  'javascript-challenge',\n",
       "  'leaflet',\n",
       "  'plotly-belly-button-diversity',\n",
       "  'Project2-WebMapping',\n",
       "  'project_two',\n",
       "  'sqlalchemy-challenge',\n",
       "  'web-design-challenge',\n",
       "  'web-scraping-challenge',\n",
       "  'Example1',\n",
       "  'GA-DAT-Repo',\n",
       "  'GA-DAT_MyRepo',\n",
       "  'sample-repo2'],\n",
       " 'URL': ['https://github.com/JonathanBechtel/cdc-dashboard',\n",
       "  'https://github.com/JonathanBechtel/DAT-01-21',\n",
       "  'https://github.com/JonathanBechtel/DAT-06-24',\n",
       "  'https://github.com/JonathanBechtel/DAT-10-14',\n",
       "  'https://github.com/JonathanBechtel/data',\n",
       "  'https://github.com/JonathanBechtel/Data-Analysis',\n",
       "  'https://github.com/JonathanBechtel/easyml',\n",
       "  'https://github.com/JonathanBechtel/formula-app',\n",
       "  'https://github.com/JonathanBechtel/formula-calculator',\n",
       "  'https://github.com/JonathanBechtel/formula-generator',\n",
       "  'https://github.com/JonathanBechtel/google-quest',\n",
       "  'https://github.com/JonathanBechtel/Kaggle',\n",
       "  'https://github.com/JonathanBechtel/ltcv',\n",
       "  'https://github.com/JonathanBechtel/ml-app',\n",
       "  'https://github.com/JonathanBechtel/ML-From-Scratch',\n",
       "  'https://github.com/JonathanBechtel/ml-web-app',\n",
       "  'https://github.com/JonathanBechtel/My-DAT-repo',\n",
       "  'https://github.com/JonathanBechtel/my-repo',\n",
       "  'https://github.com/JonathanBechtel/practical-time-series-analysis',\n",
       "  'https://github.com/JonathanBechtel/sample-repo',\n",
       "  'https://github.com/JonathanBechtel/sample-repo2',\n",
       "  'https://github.com/JonathanBechtel/stochastic-processes',\n",
       "  'https://github.com/JonathanBechtel/superfood-picker',\n",
       "  'https://github.com/JonathanBechtel/total-gross',\n",
       "  'https://github.com/JonathanBechtel/website',\n",
       "  'https://github.com/aoifeduna/aoiferepo',\n",
       "  'https://github.com/aoifeduna/atom',\n",
       "  'https://github.com/aoifeduna/example1',\n",
       "  'https://github.com/simoschr/example1',\n",
       "  'https://github.com/brittanikauf/d3-challenge',\n",
       "  'https://github.com/brittanikauf/DAT-01',\n",
       "  'https://github.com/brittanikauf/ETL_Project',\n",
       "  'https://github.com/brittanikauf/homeworks',\n",
       "  'https://github.com/brittanikauf/javascript-challenge',\n",
       "  'https://github.com/brittanikauf/leaflet',\n",
       "  'https://github.com/brittanikauf/plotly-belly-button-diversity',\n",
       "  'https://github.com/brittanikauf/Project2-WebMapping',\n",
       "  'https://github.com/brittanikauf/project_two',\n",
       "  'https://github.com/brittanikauf/sqlalchemy-challenge',\n",
       "  'https://github.com/brittanikauf/web-design-challenge',\n",
       "  'https://github.com/brittanikauf/web-scraping-challenge',\n",
       "  'https://github.com/sturner08/Example1',\n",
       "  'https://github.com/sturner08/GA-DAT-Repo',\n",
       "  'https://github.com/sturner08/GA-DAT_MyRepo',\n",
       "  'https://github.com/sturner08/sample-repo2'],\n",
       " 'Date': ['2016-11-02T14:39:37Z',\n",
       "  '2020-01-21T12:57:43Z',\n",
       "  '2019-06-26T15:12:49Z',\n",
       "  '2019-10-14T16:13:47Z',\n",
       "  '2019-01-14T22:09:06Z',\n",
       "  '2016-09-01T16:55:29Z',\n",
       "  '2019-05-14T11:48:59Z',\n",
       "  '2016-12-30T00:10:24Z',\n",
       "  '2015-01-21T04:07:02Z',\n",
       "  '2016-12-22T23:40:54Z',\n",
       "  '2019-11-29T20:12:51Z',\n",
       "  '2019-03-31T02:36:48Z',\n",
       "  '2017-03-30T20:03:14Z',\n",
       "  '2019-06-06T06:41:54Z',\n",
       "  '2019-11-05T23:56:33Z',\n",
       "  '2019-06-06T06:33:28Z',\n",
       "  '2019-06-26T23:50:04Z',\n",
       "  '2019-06-27T00:03:23Z',\n",
       "  '2019-06-29T23:40:04Z',\n",
       "  '2019-10-15T00:31:57Z',\n",
       "  '2020-01-22T00:58:08Z',\n",
       "  '2019-12-19T14:14:00Z',\n",
       "  '2015-07-15T12:20:22Z',\n",
       "  '2017-10-17T04:01:46Z',\n",
       "  '2016-10-15T22:36:22Z',\n",
       "  '2020-01-22T00:58:07Z',\n",
       "  '2020-01-06T01:13:55Z',\n",
       "  '2020-01-06T01:06:55Z',\n",
       "  '2019-11-24T19:48:58Z',\n",
       "  '2019-10-27T19:54:52Z',\n",
       "  '2020-01-22T00:59:39Z',\n",
       "  '2019-10-05T15:40:49Z',\n",
       "  '2019-09-17T16:54:28Z',\n",
       "  '2019-10-23T17:22:39Z',\n",
       "  '2019-12-02T16:52:30Z',\n",
       "  '2019-12-02T01:36:43Z',\n",
       "  '2019-11-05T02:12:09Z',\n",
       "  '2019-11-05T01:01:42Z',\n",
       "  '2019-09-17T17:03:35Z',\n",
       "  '2019-10-03T12:44:01Z',\n",
       "  '2019-10-07T01:13:32Z',\n",
       "  '2020-01-16T15:37:02Z',\n",
       "  '2020-01-23T22:58:58Z',\n",
       "  '2020-01-28T23:25:10Z',\n",
       "  '2020-01-22T00:58:16Z']}"
      ]
     },
     "execution_count": 32,
     "metadata": {},
     "output_type": "execute_result"
    }
   ],
   "source": [
    "data_dict = {\n",
    "    'Owner': owners,\n",
    "    'Name': names,\n",
    "    'URL': urls,\n",
    "    'Date': dates\n",
    "}\n",
    "data_dict"
   ]
  },
  {
   "cell_type": "markdown",
   "metadata": {},
   "source": [
    "### Step 9:  Pass your dictionary into the `pd.dataframe()` method to get your final dataset  \n",
    "\n",
    "Use the `df.head()` method to confirm that you have something that's formatted appropriately."
   ]
  },
  {
   "cell_type": "code",
   "execution_count": 34,
   "metadata": {},
   "outputs": [
    {
     "data": {
      "text/html": [
       "<div>\n",
       "<style scoped>\n",
       "    .dataframe tbody tr th:only-of-type {\n",
       "        vertical-align: middle;\n",
       "    }\n",
       "\n",
       "    .dataframe tbody tr th {\n",
       "        vertical-align: top;\n",
       "    }\n",
       "\n",
       "    .dataframe thead th {\n",
       "        text-align: right;\n",
       "    }\n",
       "</style>\n",
       "<table border=\"1\" class=\"dataframe\">\n",
       "  <thead>\n",
       "    <tr style=\"text-align: right;\">\n",
       "      <th></th>\n",
       "      <th>Owner</th>\n",
       "      <th>Name</th>\n",
       "      <th>URL</th>\n",
       "      <th>Date</th>\n",
       "    </tr>\n",
       "  </thead>\n",
       "  <tbody>\n",
       "    <tr>\n",
       "      <th>0</th>\n",
       "      <td>JonathanBechtel</td>\n",
       "      <td>cdc-dashboard</td>\n",
       "      <td>https://github.com/JonathanBechtel/cdc-dashboard</td>\n",
       "      <td>2016-11-02T14:39:37Z</td>\n",
       "    </tr>\n",
       "    <tr>\n",
       "      <th>1</th>\n",
       "      <td>JonathanBechtel</td>\n",
       "      <td>DAT-01-21</td>\n",
       "      <td>https://github.com/JonathanBechtel/DAT-01-21</td>\n",
       "      <td>2020-01-21T12:57:43Z</td>\n",
       "    </tr>\n",
       "    <tr>\n",
       "      <th>2</th>\n",
       "      <td>JonathanBechtel</td>\n",
       "      <td>DAT-06-24</td>\n",
       "      <td>https://github.com/JonathanBechtel/DAT-06-24</td>\n",
       "      <td>2019-06-26T15:12:49Z</td>\n",
       "    </tr>\n",
       "    <tr>\n",
       "      <th>3</th>\n",
       "      <td>JonathanBechtel</td>\n",
       "      <td>DAT-10-14</td>\n",
       "      <td>https://github.com/JonathanBechtel/DAT-10-14</td>\n",
       "      <td>2019-10-14T16:13:47Z</td>\n",
       "    </tr>\n",
       "    <tr>\n",
       "      <th>4</th>\n",
       "      <td>JonathanBechtel</td>\n",
       "      <td>data</td>\n",
       "      <td>https://github.com/JonathanBechtel/data</td>\n",
       "      <td>2019-01-14T22:09:06Z</td>\n",
       "    </tr>\n",
       "  </tbody>\n",
       "</table>\n",
       "</div>"
      ],
      "text/plain": [
       "             Owner           Name  \\\n",
       "0  JonathanBechtel  cdc-dashboard   \n",
       "1  JonathanBechtel      DAT-01-21   \n",
       "2  JonathanBechtel      DAT-06-24   \n",
       "3  JonathanBechtel      DAT-10-14   \n",
       "4  JonathanBechtel           data   \n",
       "\n",
       "                                                URL                  Date  \n",
       "0  https://github.com/JonathanBechtel/cdc-dashboard  2016-11-02T14:39:37Z  \n",
       "1      https://github.com/JonathanBechtel/DAT-01-21  2020-01-21T12:57:43Z  \n",
       "2      https://github.com/JonathanBechtel/DAT-06-24  2019-06-26T15:12:49Z  \n",
       "3      https://github.com/JonathanBechtel/DAT-10-14  2019-10-14T16:13:47Z  \n",
       "4           https://github.com/JonathanBechtel/data  2019-01-14T22:09:06Z  "
      ]
     },
     "execution_count": 34,
     "metadata": {},
     "output_type": "execute_result"
    }
   ],
   "source": [
    "import pandas as pd\n",
    "df = pd.DataFrame(data_dict)\n",
    "df.head()"
   ]
  },
  {
   "cell_type": "code",
   "execution_count": null,
   "metadata": {},
   "outputs": [],
   "source": []
  }
 ],
 "metadata": {
  "kernelspec": {
   "display_name": "Python 3",
   "language": "python",
   "name": "python3"
  },
  "language_info": {
   "codemirror_mode": {
    "name": "ipython",
    "version": 3
   },
   "file_extension": ".py",
   "mimetype": "text/x-python",
   "name": "python",
   "nbconvert_exporter": "python",
   "pygments_lexer": "ipython3",
   "version": "3.6.5"
  }
 },
 "nbformat": 4,
 "nbformat_minor": 4
}
