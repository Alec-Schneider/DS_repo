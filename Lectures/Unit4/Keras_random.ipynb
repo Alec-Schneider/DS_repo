{
 "cells": [
  {
   "cell_type": "code",
   "execution_count": 8,
   "metadata": {},
   "outputs": [],
   "source": [
    "import keras\n",
    "from keras.models import Sequential\n",
    "from keras.layers import Dense, Activation"
   ]
  },
  {
   "cell_type": "code",
   "execution_count": 6,
   "metadata": {},
   "outputs": [
    {
     "name": "stdout",
     "output_type": "stream",
     "text": [
      "Epoch 1/10\n",
      "1000/1000 [==============================] - 0s 206us/step - loss: 0.7061 - accuracy: 0.4960\n",
      "Epoch 2/10\n",
      "1000/1000 [==============================] - 0s 36us/step - loss: 0.6951 - accuracy: 0.5220\n",
      "Epoch 3/10\n",
      "1000/1000 [==============================] - 0s 39us/step - loss: 0.6921 - accuracy: 0.5280\n",
      "Epoch 4/10\n",
      "1000/1000 [==============================] - 0s 35us/step - loss: 0.6865 - accuracy: 0.5580\n",
      "Epoch 5/10\n",
      "1000/1000 [==============================] - 0s 39us/step - loss: 0.6819 - accuracy: 0.5660\n",
      "Epoch 6/10\n",
      "1000/1000 [==============================] - 0s 40us/step - loss: 0.6810 - accuracy: 0.5640\n",
      "Epoch 7/10\n",
      "1000/1000 [==============================] - 0s 40us/step - loss: 0.6725 - accuracy: 0.5730\n",
      "Epoch 8/10\n",
      "1000/1000 [==============================] - 0s 40us/step - loss: 0.6734 - accuracy: 0.5870\n",
      "Epoch 9/10\n",
      "1000/1000 [==============================] - 0s 44us/step - loss: 0.6693 - accuracy: 0.5900\n",
      "Epoch 10/10\n",
      "1000/1000 [==============================] - 0s 44us/step - loss: 0.6664 - accuracy: 0.6060\n"
     ]
    },
    {
     "data": {
      "text/plain": [
       "<keras.callbacks.callbacks.History at 0x18abc1cee48>"
      ]
     },
     "execution_count": 6,
     "metadata": {},
     "output_type": "execute_result"
    }
   ],
   "source": [
    "# For a single-input model with 2 classes (binary classification):\n",
    "\n",
    "model = Sequential()\n",
    "model.add(Dense(32, activation='relu', input_dim=100))\n",
    "model.add(Dense(1, activation='sigmoid'))\n",
    "model.compile(optimizer='rmsprop',\n",
    "              loss='binary_crossentropy',\n",
    "              metrics=['accuracy'])\n",
    "\n",
    "# Generate dummy data\n",
    "import numpy as np\n",
    "data = np.random.random((1000, 100))\n",
    "labels = np.random.randint(2, size=(1000, 1))\n",
    "\n",
    "# Train the model, iterating on the data in batches of 32 samples\n",
    "model.fit(data, labels, epochs=10, batch_size=32)"
   ]
  },
  {
   "cell_type": "code",
   "execution_count": null,
   "metadata": {},
   "outputs": [],
   "source": []
  },
  {
   "cell_type": "code",
   "execution_count": 9,
   "metadata": {},
   "outputs": [],
   "source": [
    "# Generate dummy data\n",
    "import numpy as np\n",
    "x_train = np.random.random((1000, 20))\n",
    "y_train = keras.utils.to_categorical(np.random.randint(10, size=(1000, 1)), num_classes=10)\n",
    "x_test = np.random.random((100, 20))\n",
    "y_test = keras.utils.to_categorical(np.random.randint(10, size=(100, 1)), num_classes=10)"
   ]
  },
  {
   "cell_type": "code",
   "execution_count": 11,
   "metadata": {},
   "outputs": [],
   "source": [
    "from keras.models import Sequential\n",
    "from keras.layers import Dense, Dropout, Activation\n",
    "from keras.optimizers import SGD"
   ]
  },
  {
   "cell_type": "code",
   "execution_count": 12,
   "metadata": {},
   "outputs": [
    {
     "name": "stdout",
     "output_type": "stream",
     "text": [
      "Epoch 1/50\n",
      "1000/1000 [==============================] - 0s 198us/step - loss: 2.4367 - accuracy: 0.1050\n",
      "Epoch 2/50\n",
      "1000/1000 [==============================] - 0s 20us/step - loss: 2.3779 - accuracy: 0.0850\n",
      "Epoch 3/50\n",
      "1000/1000 [==============================] - 0s 18us/step - loss: 2.3404 - accuracy: 0.0880\n",
      "Epoch 4/50\n",
      "1000/1000 [==============================] - 0s 20us/step - loss: 2.3296 - accuracy: 0.1150\n",
      "Epoch 5/50\n",
      "1000/1000 [==============================] - 0s 24us/step - loss: 2.3077 - accuracy: 0.1060\n",
      "Epoch 6/50\n",
      "1000/1000 [==============================] - 0s 20us/step - loss: 2.3115 - accuracy: 0.1010\n",
      "Epoch 7/50\n",
      "1000/1000 [==============================] - 0s 24us/step - loss: 2.3113 - accuracy: 0.0990\n",
      "Epoch 8/50\n",
      "1000/1000 [==============================] - 0s 24us/step - loss: 2.3081 - accuracy: 0.1100\n",
      "Epoch 9/50\n",
      "1000/1000 [==============================] - 0s 24us/step - loss: 2.3057 - accuracy: 0.1100\n",
      "Epoch 10/50\n",
      "1000/1000 [==============================] - 0s 24us/step - loss: 2.3018 - accuracy: 0.1290\n",
      "Epoch 11/50\n",
      "1000/1000 [==============================] - 0s 24us/step - loss: 2.2995 - accuracy: 0.1240\n",
      "Epoch 12/50\n",
      "1000/1000 [==============================] - 0s 20us/step - loss: 2.3037 - accuracy: 0.1120\n",
      "Epoch 13/50\n",
      "1000/1000 [==============================] - 0s 20us/step - loss: 2.3017 - accuracy: 0.1290\n",
      "Epoch 14/50\n",
      "1000/1000 [==============================] - 0s 20us/step - loss: 2.2999 - accuracy: 0.1100\n",
      "Epoch 15/50\n",
      "1000/1000 [==============================] - 0s 20us/step - loss: 2.2949 - accuracy: 0.1270\n",
      "Epoch 16/50\n",
      "1000/1000 [==============================] - 0s 18us/step - loss: 2.2952 - accuracy: 0.1180\n",
      "Epoch 17/50\n",
      "1000/1000 [==============================] - 0s 20us/step - loss: 2.2966 - accuracy: 0.1180\n",
      "Epoch 18/50\n",
      "1000/1000 [==============================] - 0s 20us/step - loss: 2.3001 - accuracy: 0.0930\n",
      "Epoch 19/50\n",
      "1000/1000 [==============================] - 0s 20us/step - loss: 2.2992 - accuracy: 0.1270\n",
      "Epoch 20/50\n",
      "1000/1000 [==============================] - 0s 16us/step - loss: 2.3006 - accuracy: 0.1220\n",
      "Epoch 21/50\n",
      "1000/1000 [==============================] - 0s 20us/step - loss: 2.2939 - accuracy: 0.1200\n",
      "Epoch 22/50\n",
      "1000/1000 [==============================] - 0s 20us/step - loss: 2.2919 - accuracy: 0.1150\n",
      "Epoch 23/50\n",
      "1000/1000 [==============================] - 0s 16us/step - loss: 2.2972 - accuracy: 0.1100\n",
      "Epoch 24/50\n",
      "1000/1000 [==============================] - 0s 20us/step - loss: 2.2931 - accuracy: 0.1210\n",
      "Epoch 25/50\n",
      "1000/1000 [==============================] - 0s 20us/step - loss: 2.2926 - accuracy: 0.1290\n",
      "Epoch 26/50\n",
      "1000/1000 [==============================] - 0s 20us/step - loss: 2.3012 - accuracy: 0.1090\n",
      "Epoch 27/50\n",
      "1000/1000 [==============================] - 0s 20us/step - loss: 2.2989 - accuracy: 0.1040\n",
      "Epoch 28/50\n",
      "1000/1000 [==============================] - 0s 16us/step - loss: 2.2899 - accuracy: 0.1340\n",
      "Epoch 29/50\n",
      "1000/1000 [==============================] - 0s 20us/step - loss: 2.2961 - accuracy: 0.1220\n",
      "Epoch 30/50\n",
      "1000/1000 [==============================] - 0s 20us/step - loss: 2.2871 - accuracy: 0.1300\n",
      "Epoch 31/50\n",
      "1000/1000 [==============================] - 0s 16us/step - loss: 2.2938 - accuracy: 0.1320\n",
      "Epoch 32/50\n",
      "1000/1000 [==============================] - 0s 20us/step - loss: 2.2931 - accuracy: 0.1200\n",
      "Epoch 33/50\n",
      "1000/1000 [==============================] - 0s 20us/step - loss: 2.2962 - accuracy: 0.1230\n",
      "Epoch 34/50\n",
      "1000/1000 [==============================] - 0s 20us/step - loss: 2.2910 - accuracy: 0.1260\n",
      "Epoch 35/50\n",
      "1000/1000 [==============================] - 0s 20us/step - loss: 2.2888 - accuracy: 0.1290\n",
      "Epoch 36/50\n",
      "1000/1000 [==============================] - 0s 20us/step - loss: 2.2936 - accuracy: 0.1210\n",
      "Epoch 37/50\n",
      "1000/1000 [==============================] - 0s 20us/step - loss: 2.2958 - accuracy: 0.1130\n",
      "Epoch 38/50\n",
      "1000/1000 [==============================] - 0s 20us/step - loss: 2.2867 - accuracy: 0.1380\n",
      "Epoch 39/50\n",
      "1000/1000 [==============================] - 0s 24us/step - loss: 2.2939 - accuracy: 0.1190\n",
      "Epoch 40/50\n",
      "1000/1000 [==============================] - 0s 24us/step - loss: 2.2932 - accuracy: 0.1160\n",
      "Epoch 41/50\n",
      "1000/1000 [==============================] - 0s 16us/step - loss: 2.2913 - accuracy: 0.1190\n",
      "Epoch 42/50\n",
      "1000/1000 [==============================] - 0s 20us/step - loss: 2.2884 - accuracy: 0.1060\n",
      "Epoch 43/50\n",
      "1000/1000 [==============================] - 0s 20us/step - loss: 2.2872 - accuracy: 0.1280\n",
      "Epoch 44/50\n",
      "1000/1000 [==============================] - 0s 16us/step - loss: 2.2877 - accuracy: 0.1280\n",
      "Epoch 45/50\n",
      "1000/1000 [==============================] - 0s 20us/step - loss: 2.2853 - accuracy: 0.1440\n",
      "Epoch 46/50\n",
      "1000/1000 [==============================] - 0s 20us/step - loss: 2.2906 - accuracy: 0.1290\n",
      "Epoch 47/50\n",
      "1000/1000 [==============================] - 0s 20us/step - loss: 2.2882 - accuracy: 0.1240\n",
      "Epoch 48/50\n",
      "1000/1000 [==============================] - 0s 16us/step - loss: 2.2787 - accuracy: 0.1370\n",
      "Epoch 49/50\n",
      "1000/1000 [==============================] - 0s 20us/step - loss: 2.2978 - accuracy: 0.1190\n",
      "Epoch 50/50\n",
      "1000/1000 [==============================] - 0s 20us/step - loss: 2.2846 - accuracy: 0.1410\n",
      "100/100 [==============================] - 0s 679us/step\n"
     ]
    }
   ],
   "source": [
    "model = Sequential()\n",
    "# Dense(64) is a fully-connected layer with 64 hidden units.\n",
    "# in the first layer, you must specify the expected input data shape:\n",
    "# here, 20-dimensional vectors.\n",
    "model.add(Dense(64, activation='relu', input_dim=20))\n",
    "model.add(Dropout(0.5))\n",
    "model.add(Dense(64, activation='relu'))\n",
    "model.add(Dropout(0.5))\n",
    "model.add(Dense(10, activation='softmax'))\n",
    "\n",
    "sgd = SGD(lr=0.01, decay=1e-6, momentum=0.9, nesterov=True)\n",
    "model.compile(loss='categorical_crossentropy',\n",
    "              optimizer=sgd,\n",
    "              metrics=['accuracy'])\n",
    "\n",
    "model.fit(x_train, y_train,\n",
    "          epochs=50,\n",
    "          batch_size=128)\n",
    "score = model.evaluate(x_test, y_test, batch_size=128)"
   ]
  },
  {
   "cell_type": "code",
   "execution_count": null,
   "metadata": {},
   "outputs": [],
   "source": []
  }
 ],
 "metadata": {
  "kernelspec": {
   "display_name": "Python 3",
   "language": "python",
   "name": "python3"
  },
  "language_info": {
   "codemirror_mode": {
    "name": "ipython",
    "version": 3
   },
   "file_extension": ".py",
   "mimetype": "text/x-python",
   "name": "python",
   "nbconvert_exporter": "python",
   "pygments_lexer": "ipython3",
   "version": "3.7.6"
  }
 },
 "nbformat": 4,
 "nbformat_minor": 4
}
