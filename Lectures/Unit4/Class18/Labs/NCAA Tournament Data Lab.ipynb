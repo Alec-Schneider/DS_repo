{
 "cells": [
  {
   "cell_type": "markdown",
   "metadata": {},
   "source": [
    "### Men's NCAA Tournament Lab\n",
    "\n",
    "Welcome!  This lab is designed to introduce you all to building features and scoring models on game data from the NCAA tournament.  \n",
    "\n",
    "When you're done, you should be able to work through the basics of using predictive models in these types of situations."
   ]
  },
  {
   "cell_type": "markdown",
   "metadata": {},
   "source": [
    "**Step 1:** Import files for the seeds, ncaa tournament games, and regular season games.  Also import the exported csv you made from class for the initial one variable model you fit."
   ]
  },
  {
   "cell_type": "code",
   "execution_count": 3,
   "metadata": {},
   "outputs": [],
   "source": [
    "import pandas as pd\n",
    "import numpy as np\n",
    "seeds = pd.read_csv('../../data/NCAA/MNCAATourneySeeds.csv')\n",
    "results = pd.read_csv('../../data/NCAA/MNCAATourneyCompactResults.csv')\n",
    "\n",
    "season = pd.read_csv('../../data/NCAA/MRegularSeasonCompactResults.csv')\n",
    "\n",
    "game_data = pd.read_csv('../../data/NCAA/game_data.csv')"
   ]
  },
  {
   "cell_type": "markdown",
   "metadata": {},
   "source": [
    "**Step 2:** Create a Training & Test Set, With the Test Set Comprising of All Games 2015 & After.  Use the exported csv from class for this, since it's already prepped."
   ]
  },
  {
   "cell_type": "code",
   "execution_count": 38,
   "metadata": {},
   "outputs": [],
   "source": [
    "train1 = game_data[game_data['Season'] < 2015]\n",
    "test1 = game_data[~game_data['Season'] < 2015]"
   ]
  },
  {
   "cell_type": "markdown",
   "metadata": {},
   "source": [
    "**Step 3:** Find an initial validation score with the 1 seed model, and a RandomForest Classifier, right out of the box.\n",
    "\n",
    " - Run KFold, using 10 splits\n",
    " - Just use the seed difference for X\n",
    " - FYI: The score being returned is prediction accuracy"
   ]
  },
  {
   "cell_type": "code",
   "execution_count": 39,
   "metadata": {},
   "outputs": [],
   "source": [
    "from sklearn.ensemble import RandomForestClassifier\n",
    "from sklearn.model_selection import cross_val_score\n",
    "rf = RandomForestClassifier()\n",
    "\n",
    "X1 = train1[['SeedDiff']]\n",
    "y1 = train1['Result']\n",
    "\n",
    "cross_scores = cross_val_score(rf, X1, y1, cv=10)"
   ]
  },
  {
   "cell_type": "markdown",
   "metadata": {},
   "source": [
    "What is your initial validation score?"
   ]
  },
  {
   "cell_type": "code",
   "execution_count": 37,
   "metadata": {},
   "outputs": [
    {
     "data": {
      "text/plain": [
       "0.7066872008268059"
      ]
     },
     "execution_count": 37,
     "metadata": {},
     "output_type": "execute_result"
    }
   ],
   "source": [
    "np.mean(cross_scores)"
   ]
  },
  {
   "cell_type": "markdown",
   "metadata": {},
   "source": [
    "**Step 4:** Create new data that captures the won-loss record of each team\n",
    "\n",
    "We're going to break this down into smaller steps to make it easier to digest"
   ]
  },
  {
   "cell_type": "markdown",
   "metadata": {},
   "source": [
    "**a).** Use `groupby()` to group teams based on `Season` and `WTeamID` in the dataset for regular season games.  Apply the `count()` aggregator to one of the columns to determine how many games each team won."
   ]
  },
  {
   "cell_type": "code",
   "execution_count": 12,
   "metadata": {},
   "outputs": [],
   "source": [
    "wins = season.groupby(['Season', 'WTeamID'])['WScore'].count().reset_index(name='Wins')\n",
    "losses = season.groupby(['Season', 'LTeamID'])['LScore'].count().reset_index(name='Losses')"
   ]
  },
  {
   "cell_type": "markdown",
   "metadata": {},
   "source": [
    "**b).** Save the grouping from the previous step as it's own variable, but with the following additions:\n",
    "\n",
    " - tack on the `reset_index()` method at the end -- note what this does\n",
    " - as an argument for the `reset_index()` method, pass in `name=Wins`"
   ]
  },
  {
   "cell_type": "code",
   "execution_count": 6,
   "metadata": {},
   "outputs": [],
   "source": [
    "# your answer here"
   ]
  },
  {
   "cell_type": "markdown",
   "metadata": {},
   "source": [
    "**c).** Repeat steps `a` and `b`, but this time group in `LTeamID` and make the new column called `Losses` instead of `Wins`."
   ]
  },
  {
   "cell_type": "code",
   "execution_count": 7,
   "metadata": {},
   "outputs": [],
   "source": [
    "# your answer here"
   ]
  },
  {
   "cell_type": "markdown",
   "metadata": {},
   "source": [
    "At this point -- look at the two variables you created, and just make sure you can make sense out of what they're telling you.  You should have two separate dataframes that tell you how many wins & losses each team in each season had from 1985 until tolday."
   ]
  },
  {
   "cell_type": "markdown",
   "metadata": {},
   "source": [
    "**Step 5:** Merge your data back into your original data set\n",
    "\n",
    "This can be a little tedious and time consuming, but you have to be careful in order to make sure you get it right."
   ]
  },
  {
   "cell_type": "markdown",
   "metadata": {},
   "source": [
    "**Part 1:** Building Features for Team 1\n",
    "\n",
    "**a).** How many games did team 1 win?\n",
    "\n",
    "Do the following merge:\n",
    "\n",
    " - **left dataset:**  the exported csv file from class\n",
    " - **right dataset:** the data with each team's losses\n",
    " - **merge type:** left\n",
    " - **left columns to join:** `'Season'`, `'T1TeamID'`\n",
    " - **right columns to join:** `'Season'`, `'WTeamID'`\n",
    " - **new column name:** `'T1Wins'`"
   ]
  },
  {
   "cell_type": "code",
   "execution_count": 15,
   "metadata": {},
   "outputs": [
    {
     "data": {
      "text/html": [
       "<div>\n",
       "<style scoped>\n",
       "    .dataframe tbody tr th:only-of-type {\n",
       "        vertical-align: middle;\n",
       "    }\n",
       "\n",
       "    .dataframe tbody tr th {\n",
       "        vertical-align: top;\n",
       "    }\n",
       "\n",
       "    .dataframe thead th {\n",
       "        text-align: right;\n",
       "    }\n",
       "</style>\n",
       "<table border=\"1\" class=\"dataframe\">\n",
       "  <thead>\n",
       "    <tr style=\"text-align: right;\">\n",
       "      <th></th>\n",
       "      <th>Season</th>\n",
       "      <th>T1TeamID</th>\n",
       "      <th>T1Score</th>\n",
       "      <th>T2TeamID</th>\n",
       "      <th>T2Score</th>\n",
       "      <th>Result</th>\n",
       "      <th>T1Seed</th>\n",
       "      <th>T2Seed</th>\n",
       "      <th>SeedDiff</th>\n",
       "      <th>WTeamID</th>\n",
       "      <th>Wins</th>\n",
       "      <th>LTeamID</th>\n",
       "      <th>Losses</th>\n",
       "    </tr>\n",
       "  </thead>\n",
       "  <tbody>\n",
       "    <tr>\n",
       "      <th>0</th>\n",
       "      <td>1985</td>\n",
       "      <td>1116</td>\n",
       "      <td>63</td>\n",
       "      <td>1234</td>\n",
       "      <td>54</td>\n",
       "      <td>1</td>\n",
       "      <td>9</td>\n",
       "      <td>8</td>\n",
       "      <td>1</td>\n",
       "      <td>1116</td>\n",
       "      <td>21</td>\n",
       "      <td>1116.0</td>\n",
       "      <td>12.0</td>\n",
       "    </tr>\n",
       "    <tr>\n",
       "      <th>1</th>\n",
       "      <td>1985</td>\n",
       "      <td>1120</td>\n",
       "      <td>59</td>\n",
       "      <td>1345</td>\n",
       "      <td>58</td>\n",
       "      <td>1</td>\n",
       "      <td>11</td>\n",
       "      <td>6</td>\n",
       "      <td>5</td>\n",
       "      <td>1120</td>\n",
       "      <td>18</td>\n",
       "      <td>1120.0</td>\n",
       "      <td>11.0</td>\n",
       "    </tr>\n",
       "    <tr>\n",
       "      <th>2</th>\n",
       "      <td>1985</td>\n",
       "      <td>1207</td>\n",
       "      <td>68</td>\n",
       "      <td>1250</td>\n",
       "      <td>43</td>\n",
       "      <td>1</td>\n",
       "      <td>1</td>\n",
       "      <td>16</td>\n",
       "      <td>-15</td>\n",
       "      <td>1207</td>\n",
       "      <td>25</td>\n",
       "      <td>1207.0</td>\n",
       "      <td>2.0</td>\n",
       "    </tr>\n",
       "    <tr>\n",
       "      <th>3</th>\n",
       "      <td>1985</td>\n",
       "      <td>1229</td>\n",
       "      <td>58</td>\n",
       "      <td>1425</td>\n",
       "      <td>55</td>\n",
       "      <td>1</td>\n",
       "      <td>9</td>\n",
       "      <td>8</td>\n",
       "      <td>1</td>\n",
       "      <td>1229</td>\n",
       "      <td>20</td>\n",
       "      <td>1229.0</td>\n",
       "      <td>7.0</td>\n",
       "    </tr>\n",
       "    <tr>\n",
       "      <th>4</th>\n",
       "      <td>1985</td>\n",
       "      <td>1242</td>\n",
       "      <td>49</td>\n",
       "      <td>1325</td>\n",
       "      <td>38</td>\n",
       "      <td>1</td>\n",
       "      <td>3</td>\n",
       "      <td>14</td>\n",
       "      <td>-11</td>\n",
       "      <td>1242</td>\n",
       "      <td>23</td>\n",
       "      <td>1242.0</td>\n",
       "      <td>7.0</td>\n",
       "    </tr>\n",
       "  </tbody>\n",
       "</table>\n",
       "</div>"
      ],
      "text/plain": [
       "   Season  T1TeamID  T1Score  T2TeamID  T2Score  Result  T1Seed  T2Seed  \\\n",
       "0    1985      1116       63      1234       54       1       9       8   \n",
       "1    1985      1120       59      1345       58       1      11       6   \n",
       "2    1985      1207       68      1250       43       1       1      16   \n",
       "3    1985      1229       58      1425       55       1       9       8   \n",
       "4    1985      1242       49      1325       38       1       3      14   \n",
       "\n",
       "   SeedDiff  WTeamID  Wins  LTeamID  Losses  \n",
       "0         1     1116    21   1116.0    12.0  \n",
       "1         5     1120    18   1120.0    11.0  \n",
       "2       -15     1207    25   1207.0     2.0  \n",
       "3         1     1229    20   1229.0     7.0  \n",
       "4       -11     1242    23   1242.0     7.0  "
      ]
     },
     "execution_count": 15,
     "metadata": {},
     "output_type": "execute_result"
    }
   ],
   "source": [
    "game_data = game_data.merge(wins, how='left', left_on=['Season', 'T1TeamID'], right_on=['Season', 'WTeamID'])\n",
    "game_data = game_data.merge(losses, how='left', left_on=['Season', 'T1TeamID'], right_on=['Season', 'LTeamID'])\n",
    "game_data.head()"
   ]
  },
  {
   "cell_type": "markdown",
   "metadata": {},
   "source": [
    "**b).** How many games did team 1 lose?\n",
    "\n",
    "Do the following merge:\n",
    "\n",
    " - **left dataset:**  the exported csv file from class\n",
    " - **right dataset:** the data with each team's losses\n",
    " - **merge type:** left\n",
    " - **left columns to join:** `'Season'`, `'T1TeamID'`\n",
    " - **right columns to join:** `'Season'`, `'LTeamID'`\n",
    " - **new column name:** `'T1Losses'`"
   ]
  },
  {
   "cell_type": "code",
   "execution_count": 9,
   "metadata": {},
   "outputs": [],
   "source": [
    "# your answer here"
   ]
  },
  {
   "cell_type": "markdown",
   "metadata": {},
   "source": [
    "**c).** Some teams have gone undefeated.  If that's the case there will be no entries for them in the loss column.  Fill in these values with 0 now."
   ]
  },
  {
   "cell_type": "code",
   "execution_count": 17,
   "metadata": {},
   "outputs": [],
   "source": [
    "game_data['Losses'].fillna(0, inplace=True)"
   ]
  },
  {
   "cell_type": "markdown",
   "metadata": {},
   "source": [
    "**d).** You probably have some unnecessary columns right now.  Remove unnecessary columns created from the merges if they exist.  These are most likely going to be the `WTeamID` and `LTeamID` columns."
   ]
  },
  {
   "cell_type": "code",
   "execution_count": 18,
   "metadata": {},
   "outputs": [],
   "source": [
    "game_data.drop(['WTeamID', 'LTeamID'], axis=1, inplace=True)"
   ]
  },
  {
   "cell_type": "markdown",
   "metadata": {},
   "source": [
    "**e).** Now create a new column called `T1WinPCT` that's the winning percentage of team 1."
   ]
  },
  {
   "cell_type": "code",
   "execution_count": 19,
   "metadata": {},
   "outputs": [],
   "source": [
    "game_data['T1WinPCT'] = game_data['Wins'] / (game_data['Wins'] + game_data['Losses'])"
   ]
  },
  {
   "cell_type": "markdown",
   "metadata": {},
   "source": [
    "**Part II:**  Build the same features for Team II\n",
    "\n",
    "Your turn:  Try and recreate the exact same features you just created for the first team, but for the second.\n",
    "\n",
    "**Hint:**  In your original dataset, swap out `T1TeamID` for `T2TeamID` for the merges."
   ]
  },
  {
   "cell_type": "code",
   "execution_count": 20,
   "metadata": {},
   "outputs": [
    {
     "data": {
      "text/html": [
       "<div>\n",
       "<style scoped>\n",
       "    .dataframe tbody tr th:only-of-type {\n",
       "        vertical-align: middle;\n",
       "    }\n",
       "\n",
       "    .dataframe tbody tr th {\n",
       "        vertical-align: top;\n",
       "    }\n",
       "\n",
       "    .dataframe thead th {\n",
       "        text-align: right;\n",
       "    }\n",
       "</style>\n",
       "<table border=\"1\" class=\"dataframe\">\n",
       "  <thead>\n",
       "    <tr style=\"text-align: right;\">\n",
       "      <th></th>\n",
       "      <th>Season</th>\n",
       "      <th>T1TeamID</th>\n",
       "      <th>T1Score</th>\n",
       "      <th>T2TeamID</th>\n",
       "      <th>T2Score</th>\n",
       "      <th>Result</th>\n",
       "      <th>T1Seed</th>\n",
       "      <th>T2Seed</th>\n",
       "      <th>SeedDiff</th>\n",
       "      <th>Wins_x</th>\n",
       "      <th>Losses_x</th>\n",
       "      <th>T1WinPCT</th>\n",
       "      <th>WTeamID</th>\n",
       "      <th>Wins_y</th>\n",
       "      <th>LTeamID</th>\n",
       "      <th>Losses_y</th>\n",
       "    </tr>\n",
       "  </thead>\n",
       "  <tbody>\n",
       "    <tr>\n",
       "      <th>0</th>\n",
       "      <td>1985</td>\n",
       "      <td>1116</td>\n",
       "      <td>63</td>\n",
       "      <td>1234</td>\n",
       "      <td>54</td>\n",
       "      <td>1</td>\n",
       "      <td>9</td>\n",
       "      <td>8</td>\n",
       "      <td>1</td>\n",
       "      <td>21</td>\n",
       "      <td>12.0</td>\n",
       "      <td>0.636364</td>\n",
       "      <td>1234</td>\n",
       "      <td>20</td>\n",
       "      <td>1234.0</td>\n",
       "      <td>10.0</td>\n",
       "    </tr>\n",
       "    <tr>\n",
       "      <th>1</th>\n",
       "      <td>1985</td>\n",
       "      <td>1120</td>\n",
       "      <td>59</td>\n",
       "      <td>1345</td>\n",
       "      <td>58</td>\n",
       "      <td>1</td>\n",
       "      <td>11</td>\n",
       "      <td>6</td>\n",
       "      <td>5</td>\n",
       "      <td>18</td>\n",
       "      <td>11.0</td>\n",
       "      <td>0.620690</td>\n",
       "      <td>1345</td>\n",
       "      <td>17</td>\n",
       "      <td>1345.0</td>\n",
       "      <td>8.0</td>\n",
       "    </tr>\n",
       "    <tr>\n",
       "      <th>2</th>\n",
       "      <td>1985</td>\n",
       "      <td>1207</td>\n",
       "      <td>68</td>\n",
       "      <td>1250</td>\n",
       "      <td>43</td>\n",
       "      <td>1</td>\n",
       "      <td>1</td>\n",
       "      <td>16</td>\n",
       "      <td>-15</td>\n",
       "      <td>25</td>\n",
       "      <td>2.0</td>\n",
       "      <td>0.925926</td>\n",
       "      <td>1250</td>\n",
       "      <td>11</td>\n",
       "      <td>1250.0</td>\n",
       "      <td>18.0</td>\n",
       "    </tr>\n",
       "    <tr>\n",
       "      <th>3</th>\n",
       "      <td>1985</td>\n",
       "      <td>1229</td>\n",
       "      <td>58</td>\n",
       "      <td>1425</td>\n",
       "      <td>55</td>\n",
       "      <td>1</td>\n",
       "      <td>9</td>\n",
       "      <td>8</td>\n",
       "      <td>1</td>\n",
       "      <td>20</td>\n",
       "      <td>7.0</td>\n",
       "      <td>0.740741</td>\n",
       "      <td>1425</td>\n",
       "      <td>19</td>\n",
       "      <td>1425.0</td>\n",
       "      <td>9.0</td>\n",
       "    </tr>\n",
       "    <tr>\n",
       "      <th>4</th>\n",
       "      <td>1985</td>\n",
       "      <td>1242</td>\n",
       "      <td>49</td>\n",
       "      <td>1325</td>\n",
       "      <td>38</td>\n",
       "      <td>1</td>\n",
       "      <td>3</td>\n",
       "      <td>14</td>\n",
       "      <td>-11</td>\n",
       "      <td>23</td>\n",
       "      <td>7.0</td>\n",
       "      <td>0.766667</td>\n",
       "      <td>1325</td>\n",
       "      <td>20</td>\n",
       "      <td>1325.0</td>\n",
       "      <td>7.0</td>\n",
       "    </tr>\n",
       "  </tbody>\n",
       "</table>\n",
       "</div>"
      ],
      "text/plain": [
       "   Season  T1TeamID  T1Score  T2TeamID  T2Score  Result  T1Seed  T2Seed  \\\n",
       "0    1985      1116       63      1234       54       1       9       8   \n",
       "1    1985      1120       59      1345       58       1      11       6   \n",
       "2    1985      1207       68      1250       43       1       1      16   \n",
       "3    1985      1229       58      1425       55       1       9       8   \n",
       "4    1985      1242       49      1325       38       1       3      14   \n",
       "\n",
       "   SeedDiff  Wins_x  Losses_x  T1WinPCT  WTeamID  Wins_y  LTeamID  Losses_y  \n",
       "0         1      21      12.0  0.636364     1234      20   1234.0      10.0  \n",
       "1         5      18      11.0  0.620690     1345      17   1345.0       8.0  \n",
       "2       -15      25       2.0  0.925926     1250      11   1250.0      18.0  \n",
       "3         1      20       7.0  0.740741     1425      19   1425.0       9.0  \n",
       "4       -11      23       7.0  0.766667     1325      20   1325.0       7.0  "
      ]
     },
     "execution_count": 20,
     "metadata": {},
     "output_type": "execute_result"
    }
   ],
   "source": [
    "game_data = game_data.merge(wins, how='left', left_on=['Season', 'T2TeamID'], right_on=['Season', 'WTeamID'])\n",
    "game_data = game_data.merge(losses, how='left', left_on=['Season', 'T2TeamID'], right_on=['Season', 'LTeamID'])\n",
    "game_data.head()"
   ]
  },
  {
   "cell_type": "code",
   "execution_count": 21,
   "metadata": {},
   "outputs": [],
   "source": [
    "game_data.rename({'Wins_x': 'T1Wins', \n",
    "                  'Losses_x': 'T1Losses',\n",
    "                 'Wins_y': 'T2Wins',\n",
    "                  'Losses_y': 'T2Losses'}, axis=1, inplace=True)"
   ]
  },
  {
   "cell_type": "code",
   "execution_count": 22,
   "metadata": {},
   "outputs": [],
   "source": [
    "game_data.drop(['WTeamID', 'LTeamID'], axis=1, inplace=True)"
   ]
  },
  {
   "cell_type": "code",
   "execution_count": 31,
   "metadata": {},
   "outputs": [
    {
     "data": {
      "text/html": [
       "<div>\n",
       "<style scoped>\n",
       "    .dataframe tbody tr th:only-of-type {\n",
       "        vertical-align: middle;\n",
       "    }\n",
       "\n",
       "    .dataframe tbody tr th {\n",
       "        vertical-align: top;\n",
       "    }\n",
       "\n",
       "    .dataframe thead th {\n",
       "        text-align: right;\n",
       "    }\n",
       "</style>\n",
       "<table border=\"1\" class=\"dataframe\">\n",
       "  <thead>\n",
       "    <tr style=\"text-align: right;\">\n",
       "      <th></th>\n",
       "      <th>Season</th>\n",
       "      <th>T1TeamID</th>\n",
       "      <th>T1Score</th>\n",
       "      <th>T2TeamID</th>\n",
       "      <th>T2Score</th>\n",
       "      <th>Result</th>\n",
       "      <th>T1Seed</th>\n",
       "      <th>T2Seed</th>\n",
       "      <th>SeedDiff</th>\n",
       "      <th>T1Wins</th>\n",
       "      <th>T1Losses</th>\n",
       "      <th>T1WinPCT</th>\n",
       "      <th>T2Wins</th>\n",
       "      <th>T2Losses</th>\n",
       "      <th>T2WinPCT</th>\n",
       "    </tr>\n",
       "  </thead>\n",
       "  <tbody>\n",
       "    <tr>\n",
       "      <th>0</th>\n",
       "      <td>1985</td>\n",
       "      <td>1116</td>\n",
       "      <td>63</td>\n",
       "      <td>1234</td>\n",
       "      <td>54</td>\n",
       "      <td>1</td>\n",
       "      <td>9</td>\n",
       "      <td>8</td>\n",
       "      <td>1</td>\n",
       "      <td>21</td>\n",
       "      <td>12.0</td>\n",
       "      <td>0.636364</td>\n",
       "      <td>20</td>\n",
       "      <td>10.0</td>\n",
       "      <td>0.666667</td>\n",
       "    </tr>\n",
       "    <tr>\n",
       "      <th>1</th>\n",
       "      <td>1985</td>\n",
       "      <td>1120</td>\n",
       "      <td>59</td>\n",
       "      <td>1345</td>\n",
       "      <td>58</td>\n",
       "      <td>1</td>\n",
       "      <td>11</td>\n",
       "      <td>6</td>\n",
       "      <td>5</td>\n",
       "      <td>18</td>\n",
       "      <td>11.0</td>\n",
       "      <td>0.620690</td>\n",
       "      <td>17</td>\n",
       "      <td>8.0</td>\n",
       "      <td>0.680000</td>\n",
       "    </tr>\n",
       "    <tr>\n",
       "      <th>2</th>\n",
       "      <td>1985</td>\n",
       "      <td>1207</td>\n",
       "      <td>68</td>\n",
       "      <td>1250</td>\n",
       "      <td>43</td>\n",
       "      <td>1</td>\n",
       "      <td>1</td>\n",
       "      <td>16</td>\n",
       "      <td>-15</td>\n",
       "      <td>25</td>\n",
       "      <td>2.0</td>\n",
       "      <td>0.925926</td>\n",
       "      <td>11</td>\n",
       "      <td>18.0</td>\n",
       "      <td>0.379310</td>\n",
       "    </tr>\n",
       "    <tr>\n",
       "      <th>3</th>\n",
       "      <td>1985</td>\n",
       "      <td>1229</td>\n",
       "      <td>58</td>\n",
       "      <td>1425</td>\n",
       "      <td>55</td>\n",
       "      <td>1</td>\n",
       "      <td>9</td>\n",
       "      <td>8</td>\n",
       "      <td>1</td>\n",
       "      <td>20</td>\n",
       "      <td>7.0</td>\n",
       "      <td>0.740741</td>\n",
       "      <td>19</td>\n",
       "      <td>9.0</td>\n",
       "      <td>0.678571</td>\n",
       "    </tr>\n",
       "    <tr>\n",
       "      <th>4</th>\n",
       "      <td>1985</td>\n",
       "      <td>1242</td>\n",
       "      <td>49</td>\n",
       "      <td>1325</td>\n",
       "      <td>38</td>\n",
       "      <td>1</td>\n",
       "      <td>3</td>\n",
       "      <td>14</td>\n",
       "      <td>-11</td>\n",
       "      <td>23</td>\n",
       "      <td>7.0</td>\n",
       "      <td>0.766667</td>\n",
       "      <td>20</td>\n",
       "      <td>7.0</td>\n",
       "      <td>0.740741</td>\n",
       "    </tr>\n",
       "  </tbody>\n",
       "</table>\n",
       "</div>"
      ],
      "text/plain": [
       "   Season  T1TeamID  T1Score  T2TeamID  T2Score  Result  T1Seed  T2Seed  \\\n",
       "0    1985      1116       63      1234       54       1       9       8   \n",
       "1    1985      1120       59      1345       58       1      11       6   \n",
       "2    1985      1207       68      1250       43       1       1      16   \n",
       "3    1985      1229       58      1425       55       1       9       8   \n",
       "4    1985      1242       49      1325       38       1       3      14   \n",
       "\n",
       "   SeedDiff  T1Wins  T1Losses  T1WinPCT  T2Wins  T2Losses  T2WinPCT  \n",
       "0         1      21      12.0  0.636364      20      10.0  0.666667  \n",
       "1         5      18      11.0  0.620690      17       8.0  0.680000  \n",
       "2       -15      25       2.0  0.925926      11      18.0  0.379310  \n",
       "3         1      20       7.0  0.740741      19       9.0  0.678571  \n",
       "4       -11      23       7.0  0.766667      20       7.0  0.740741  "
      ]
     },
     "execution_count": 31,
     "metadata": {},
     "output_type": "execute_result"
    }
   ],
   "source": [
    "game_data['T2Losses'].fillna(0, inplace=True)\n",
    "game_data['T2WinPCT'] = game_data['T2Wins'] / (game_data['T2Wins'] + game_data['T2Losses'])\n",
    "game_data.head()"
   ]
  },
  {
   "cell_type": "markdown",
   "metadata": {},
   "source": [
    "**Step 6:** Recreate your training and test sets from the original data source, using the same criteria as before"
   ]
  },
  {
   "cell_type": "code",
   "execution_count": 32,
   "metadata": {},
   "outputs": [],
   "source": [
    "train = game_data[game_data['Season'] < 2015]\n",
    "test = game_data[~game_data['Season'] < 2015]"
   ]
  },
  {
   "cell_type": "markdown",
   "metadata": {},
   "source": [
    "**Step 7:** Recreate `X` and `y`, except this time include the new features that you added -- Wins and losses for each team, as well as their winning percentage"
   ]
  },
  {
   "cell_type": "code",
   "execution_count": 33,
   "metadata": {},
   "outputs": [],
   "source": [
    "X = game_data[['SeedDiff', 'T1Wins', 'T1Losses', 'T1WinPCT', 'T2Wins', 'T2Losses', 'T2WinPCT']]\n",
    "y = game_data['Result']"
   ]
  },
  {
   "cell_type": "markdown",
   "metadata": {},
   "source": [
    "**Step 8:** Re-check your validation scores with the new data, using the same conditions that we did in the previous step.  See if your validation scores improved at all."
   ]
  },
  {
   "cell_type": "code",
   "execution_count": 34,
   "metadata": {},
   "outputs": [
    {
     "name": "stdout",
     "output_type": "stream",
     "text": [
      "0.673489529440749 [0.654102   0.64301552 0.73111111 0.69111111 0.63777778 0.67777778\n",
      " 0.71777778 0.65555556 0.66444444 0.66222222]\n"
     ]
    }
   ],
   "source": [
    "cross_scores2 = cross_val_score(rf, X, y, cv=10)\n",
    "print(np.mean(cross_scores2), cross_scores2)"
   ]
  },
  {
   "cell_type": "markdown",
   "metadata": {},
   "source": [
    "Did your results improve?"
   ]
  },
  {
   "cell_type": "code",
   "execution_count": 35,
   "metadata": {},
   "outputs": [
    {
     "data": {
      "text/plain": [
       "-0.03502466768718837"
      ]
     },
     "execution_count": 35,
     "metadata": {},
     "output_type": "execute_result"
    }
   ],
   "source": [
    "np.mean(cross_scores2) - np.mean(cross_scores)"
   ]
  },
  {
   "cell_type": "markdown",
   "metadata": {},
   "source": [
    "**Step 9:** Of the two different versions of our model that we just tested, take the best one, fit your random forest on its training data, and then score it on your test set to see how your final results come out."
   ]
  },
  {
   "cell_type": "code",
   "execution_count": 40,
   "metadata": {
    "scrolled": true
   },
   "outputs": [
    {
     "data": {
      "text/plain": [
       "0.7099067081297201"
      ]
     },
     "execution_count": 40,
     "metadata": {},
     "output_type": "execute_result"
    }
   ],
   "source": [
    "rf.fit(X1, y1)\n",
    "rf.score(test[['SeedDiff']], test['Result'])"
   ]
  },
  {
   "cell_type": "markdown",
   "metadata": {},
   "source": [
    "**Step 10:** How close were your validation and test results?  Ie, how reliable were our validation results?"
   ]
  },
  {
   "cell_type": "markdown",
   "metadata": {},
   "source": [
    "Test scores actually improved when compared to the training scores. The seed diff column wokre better than added features"
   ]
  },
  {
   "cell_type": "markdown",
   "metadata": {},
   "source": [
    "**Bonus:** If time permits, you can try a few different permutations of what we just did to continue to improve your results.  Including:\n",
    "\n",
    " - Trying to add more features beyon each team's winning percentage (perhaps average point differential would be more informative)\n",
    " - Using a grid search to find the best parameters of your random forest and seeing how that improves your results"
   ]
  },
  {
   "cell_type": "code",
   "execution_count": 41,
   "metadata": {},
   "outputs": [],
   "source": [
    "from sklearn.model_selection import GridSearchCV"
   ]
  },
  {
   "cell_type": "code",
   "execution_count": 47,
   "metadata": {},
   "outputs": [],
   "source": [
    "params1 = {\n",
    "    'n_estimators': [100, 200, 300, 500, 750],\n",
    "    'min_samples_leaf': [1, 3, 5, 7]\n",
    "}"
   ]
  },
  {
   "cell_type": "code",
   "execution_count": 48,
   "metadata": {},
   "outputs": [
    {
     "data": {
      "text/plain": [
       "GridSearchCV(cv=10, error_score=nan,\n",
       "             estimator=RandomForestClassifier(bootstrap=True, ccp_alpha=0.0,\n",
       "                                              class_weight=None,\n",
       "                                              criterion='gini', max_depth=None,\n",
       "                                              max_features='auto',\n",
       "                                              max_leaf_nodes=None,\n",
       "                                              max_samples=None,\n",
       "                                              min_impurity_decrease=0.0,\n",
       "                                              min_impurity_split=None,\n",
       "                                              min_samples_leaf=1,\n",
       "                                              min_samples_split=2,\n",
       "                                              min_weight_fraction_leaf=0.0,\n",
       "                                              n_estimators=100, n_jobs=None,\n",
       "                                              oob_score=False,\n",
       "                                              random_state=None, verbose=0,\n",
       "                                              warm_start=False),\n",
       "             iid='deprecated', n_jobs=None,\n",
       "             param_grid={'min_samples_leaf': [1, 3, 5, 7],\n",
       "                         'n_estimators': [100, 200, 300, 500, 750]},\n",
       "             pre_dispatch='2*n_jobs', refit=True, return_train_score=False,\n",
       "             scoring=None, verbose=0)"
      ]
     },
     "execution_count": 48,
     "metadata": {},
     "output_type": "execute_result"
    }
   ],
   "source": [
    "grid1 = GridSearchCV(rf, params1, cv=10)\n",
    "grid1.fit(X1, y1)"
   ]
  },
  {
   "cell_type": "code",
   "execution_count": 49,
   "metadata": {},
   "outputs": [
    {
     "data": {
      "text/plain": [
       "{'min_samples_leaf': 5, 'n_estimators': 750}"
      ]
     },
     "execution_count": 49,
     "metadata": {},
     "output_type": "execute_result"
    }
   ],
   "source": [
    "grid1.best_params_"
   ]
  },
  {
   "cell_type": "code",
   "execution_count": 50,
   "metadata": {},
   "outputs": [
    {
     "data": {
      "text/plain": [
       "0.7100800968233246"
      ]
     },
     "execution_count": 50,
     "metadata": {},
     "output_type": "execute_result"
    }
   ],
   "source": [
    "grid1.best_score_"
   ]
  },
  {
   "cell_type": "code",
   "execution_count": 51,
   "metadata": {},
   "outputs": [
    {
     "data": {
      "text/plain": [
       "GridSearchCV(cv=10, error_score=nan,\n",
       "             estimator=RandomForestClassifier(bootstrap=True, ccp_alpha=0.0,\n",
       "                                              class_weight=None,\n",
       "                                              criterion='gini', max_depth=None,\n",
       "                                              max_features='auto',\n",
       "                                              max_leaf_nodes=None,\n",
       "                                              max_samples=None,\n",
       "                                              min_impurity_decrease=0.0,\n",
       "                                              min_impurity_split=None,\n",
       "                                              min_samples_leaf=1,\n",
       "                                              min_samples_split=2,\n",
       "                                              min_weight_fraction_leaf=0.0,\n",
       "                                              n_estimators=100, n_jobs=None,\n",
       "                                              oob_score=False,\n",
       "                                              random_state=None, verbose=0,\n",
       "                                              warm_start=False),\n",
       "             iid='deprecated', n_jobs=None,\n",
       "             param_grid={'min_samples_leaf': [1, 3, 5, 7],\n",
       "                         'n_estimators': [100, 200, 300, 500, 750]},\n",
       "             pre_dispatch='2*n_jobs', refit=True, return_train_score=False,\n",
       "             scoring=None, verbose=0)"
      ]
     },
     "execution_count": 51,
     "metadata": {},
     "output_type": "execute_result"
    }
   ],
   "source": [
    "grid1.fit(X, y)"
   ]
  },
  {
   "cell_type": "code",
   "execution_count": 52,
   "metadata": {},
   "outputs": [
    {
     "data": {
      "text/plain": [
       "{'min_samples_leaf': 7, 'n_estimators': 500}"
      ]
     },
     "execution_count": 52,
     "metadata": {},
     "output_type": "execute_result"
    }
   ],
   "source": [
    "grid1.best_params_"
   ]
  },
  {
   "cell_type": "code",
   "execution_count": 53,
   "metadata": {},
   "outputs": [
    {
     "data": {
      "text/plain": [
       "0.7043577235772359"
      ]
     },
     "execution_count": 53,
     "metadata": {},
     "output_type": "execute_result"
    }
   ],
   "source": [
    "grid1.best_score_"
   ]
  },
  {
   "cell_type": "code",
   "execution_count": null,
   "metadata": {},
   "outputs": [],
   "source": []
  }
 ],
 "metadata": {
  "kernelspec": {
   "display_name": "Python 3",
   "language": "python",
   "name": "python3"
  },
  "language_info": {
   "codemirror_mode": {
    "name": "ipython",
    "version": 3
   },
   "file_extension": ".py",
   "mimetype": "text/x-python",
   "name": "python",
   "nbconvert_exporter": "python",
   "pygments_lexer": "ipython3",
   "version": "3.6.5"
  }
 },
 "nbformat": 4,
 "nbformat_minor": 4
}
