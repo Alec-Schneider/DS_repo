{
 "cells": [
  {
   "cell_type": "code",
   "execution_count": 67,
   "metadata": {},
   "outputs": [],
   "source": [
    "import numpy as np\n",
    "import pandas as pd"
   ]
  },
  {
   "cell_type": "code",
   "execution_count": 68,
   "metadata": {},
   "outputs": [],
   "source": [
    "from sklearn.model_selection import cross_val_score"
   ]
  },
  {
   "cell_type": "code",
   "execution_count": 69,
   "metadata": {},
   "outputs": [],
   "source": [
    "# ?cross_val_score"
   ]
  },
  {
   "cell_type": "code",
   "execution_count": 70,
   "metadata": {},
   "outputs": [],
   "source": [
    "df = pd.read_csv('../data/housing.csv')"
   ]
  },
  {
   "cell_type": "code",
   "execution_count": 71,
   "metadata": {},
   "outputs": [],
   "source": [
    "from sklearn.model_selection import train_test_split"
   ]
  },
  {
   "cell_type": "code",
   "execution_count": 72,
   "metadata": {},
   "outputs": [],
   "source": [
    "from sklearn.linear_model import LinearRegression"
   ]
  },
  {
   "cell_type": "code",
   "execution_count": 73,
   "metadata": {},
   "outputs": [],
   "source": [
    "lr = LinearRegression()"
   ]
  },
  {
   "cell_type": "code",
   "execution_count": 74,
   "metadata": {},
   "outputs": [],
   "source": [
    "X = df.drop('PRICE', axis=1)\n",
    "y = df['PRICE']\n",
    "\n",
    "X_train, X_test, y_train, y_test = train_test_split(X, y, test_size=0.2, random_state=2020)"
   ]
  },
  {
   "cell_type": "code",
   "execution_count": 75,
   "metadata": {},
   "outputs": [
    {
     "name": "stderr",
     "output_type": "stream",
     "text": [
      "[Parallel(n_jobs=1)]: Using backend SequentialBackend with 1 concurrent workers.\n"
     ]
    },
    {
     "name": "stdout",
     "output_type": "stream",
     "text": [
      "[CV]  ................................................................\n",
      "[CV] .................................... , score=0.499, total=   0.3s\n",
      "[CV]  ................................................................\n",
      "[CV] .................................... , score=0.621, total=   0.0s\n",
      "[CV]  ................................................................\n",
      "[CV] .................................... , score=0.681, total=   0.0s\n",
      "[CV]  ................................................................\n",
      "[CV] .................................... , score=0.664, total=   0.0s\n",
      "[CV]  ................................................................\n",
      "[CV] .................................... , score=0.393, total=   0.0s\n",
      "[CV]  ................................................................\n",
      "[CV] .................................... , score=0.726, total=   0.0s\n",
      "[CV]  ................................................................\n",
      "[CV] .................................... , score=0.774, total=   0.0s\n",
      "[CV]  ................................................................\n",
      "[CV] .................................... , score=0.794, total=   0.0s\n",
      "[CV]  ................................................................\n",
      "[CV] .................................... , score=0.838, total=   0.0s\n",
      "[CV]  ................................................................\n",
      "[CV] .................................... , score=0.784, total=   0.0s\n"
     ]
    },
    {
     "name": "stderr",
     "output_type": "stream",
     "text": [
      "[Parallel(n_jobs=1)]: Done   1 out of   1 | elapsed:    0.3s remaining:    0.0s\n",
      "[Parallel(n_jobs=1)]: Done   2 out of   2 | elapsed:    0.3s remaining:    0.0s\n",
      "[Parallel(n_jobs=1)]: Done  10 out of  10 | elapsed:    0.4s finished\n"
     ]
    }
   ],
   "source": [
    "cv_scores = cross_val_score(lr, X_train, y_train, cv=10, verbose=3)"
   ]
  },
  {
   "cell_type": "code",
   "execution_count": 76,
   "metadata": {},
   "outputs": [
    {
     "name": "stdout",
     "output_type": "stream",
     "text": [
      "Scores\n",
      " ------------------------- \n",
      " [0.49945536 0.62090992 0.68073943 0.66394911 0.3934969  0.72625023\n",
      " 0.77370567 0.79414459 0.83785026 0.78381453]\n",
      "0.677431600071799\n",
      "0.7034948299018098\n",
      "0.13341935006024297\n"
     ]
    }
   ],
   "source": [
    "print('Scores\\n', '-'*25, '\\n', cv_scores)\n",
    "print(cv_scores.mean())\n",
    "print(np.median(cv_scores))\n",
    "print(cv_scores.std())"
   ]
  },
  {
   "cell_type": "code",
   "execution_count": 77,
   "metadata": {},
   "outputs": [
    {
     "data": {
      "text/plain": [
       "9089.097809228135"
      ]
     },
     "execution_count": 77,
     "metadata": {},
     "output_type": "execute_result"
    }
   ],
   "source": [
    "lr.fit(X_train, y_train)\n",
    "((y_train - lr.predict(X_train))**2).sum()"
   ]
  },
  {
   "cell_type": "markdown",
   "metadata": {},
   "source": [
    "### Regularization:\n",
    "\n",
    "what it is essentially doing<br>\n",
    "w = coefficients<br>\n",
    "$\\lambda$ = tuning parameter <br><br>\n",
    "\n",
    "#### Minimize thed following cost functions\n",
    "L1 (Lasso) Regularization<br>\n",
    "$\\sum{(y-\\hat{y})^2} + \\lambda\\sum{|w|}$\n",
    "\n",
    "L2 (Ridge) Regularization<br>\n",
    "$\\sum{(y-\\hat{y})^2} + \\lambda\\sum{w^2}$\n",
    "\n",
    "The bigger the lambda is, the bigger improvement you need to keep in your model to justify keeping your coefficent large"
   ]
  },
  {
   "cell_type": "markdown",
   "metadata": {},
   "source": [
    "Ridge reduces your coefficients gradually, but never zeros them out.\n",
    "Lasso will reduce the amount of coefficents to use in the model, by zeroing out coefficients"
   ]
  },
  {
   "cell_type": "code",
   "execution_count": 78,
   "metadata": {},
   "outputs": [
    {
     "data": {
      "text/plain": [
       "307389.38992837956"
      ]
     },
     "execution_count": 78,
     "metadata": {},
     "output_type": "execute_result"
    }
   ],
   "source": [
    "alpha = 1000\n",
    "alpha*(lr.coef_**2).sum()"
   ]
  },
  {
   "cell_type": "code",
   "execution_count": 79,
   "metadata": {},
   "outputs": [
    {
     "data": {
      "text/plain": [
       "600.0"
      ]
     },
     "execution_count": 79,
     "metadata": {},
     "output_type": "execute_result"
    }
   ],
   "source": [
    "100*(3.5**2 - 2.5**2)"
   ]
  },
  {
   "cell_type": "code",
   "execution_count": 80,
   "metadata": {},
   "outputs": [],
   "source": [
    "from sklearn.linear_model import Ridge, Lasso\n",
    "ridge, lasso = Ridge(), Lasso()"
   ]
  },
  {
   "cell_type": "code",
   "execution_count": 81,
   "metadata": {},
   "outputs": [],
   "source": [
    "ridge.alpha = 10"
   ]
  },
  {
   "cell_type": "code",
   "execution_count": 82,
   "metadata": {},
   "outputs": [
    {
     "data": {
      "text/plain": [
       "10"
      ]
     },
     "execution_count": 82,
     "metadata": {},
     "output_type": "execute_result"
    }
   ],
   "source": [
    "ridge.alpha"
   ]
  },
  {
   "cell_type": "code",
   "execution_count": 83,
   "metadata": {},
   "outputs": [
    {
     "data": {
      "text/plain": [
       "Ridge(alpha=10, copy_X=True, fit_intercept=True, max_iter=None, normalize=False,\n",
       "      random_state=None, solver='auto', tol=0.001)"
      ]
     },
     "execution_count": 83,
     "metadata": {},
     "output_type": "execute_result"
    }
   ],
   "source": [
    "ridge.fit(X_train, y_train)"
   ]
  },
  {
   "cell_type": "code",
   "execution_count": 84,
   "metadata": {},
   "outputs": [
    {
     "data": {
      "text/plain": [
       "array([-0.10026733,  0.04713462, -0.03657342,  1.48673754, -1.8359104 ,\n",
       "        3.71312552, -0.00967629, -1.1577618 ,  0.27714387, -0.0138669 ,\n",
       "       -0.77728801,  0.00990102, -0.56737034])"
      ]
     },
     "execution_count": 84,
     "metadata": {},
     "output_type": "execute_result"
    }
   ],
   "source": [
    "ridge.coef_"
   ]
  },
  {
   "cell_type": "code",
   "execution_count": 85,
   "metadata": {},
   "outputs": [
    {
     "data": {
      "text/plain": [
       "Lasso(alpha=1.0, copy_X=True, fit_intercept=True, max_iter=1000,\n",
       "      normalize=False, positive=False, precompute=False, random_state=None,\n",
       "      selection='cyclic', tol=0.0001, warm_start=False)"
      ]
     },
     "execution_count": 85,
     "metadata": {},
     "output_type": "execute_result"
    }
   ],
   "source": [
    "lasso.fit(X_train, y_train)"
   ]
  },
  {
   "cell_type": "code",
   "execution_count": 86,
   "metadata": {},
   "outputs": [
    {
     "data": {
      "text/plain": [
       "array([-0.06092354,  0.04545304, -0.        ,  0.        , -0.        ,\n",
       "        1.05001025,  0.02287044, -0.56125924,  0.25591408, -0.01475951,\n",
       "       -0.69776051,  0.00842163, -0.76068136])"
      ]
     },
     "execution_count": 86,
     "metadata": {},
     "output_type": "execute_result"
    }
   ],
   "source": [
    "lasso.coef_"
   ]
  },
  {
   "cell_type": "code",
   "execution_count": 87,
   "metadata": {},
   "outputs": [
    {
     "name": "stdout",
     "output_type": "stream",
     "text": [
      "[(0.001, 0.6774302782216554), (0.01, 0.677417648176563), (0.1, 0.6772318822455186), (1.0, 0.6743371883099584), (10.0, 0.6710963929835836), (100.0, 0.6677077597248793), (1000.0, 0.6276714474010422)]\n"
     ]
    }
   ],
   "source": [
    "alphas = np.logspace(-3, 3, 7)\n",
    "cv_scores = []\n",
    "for alpha in alphas:\n",
    "    ridge.set_params(alpha=alpha)\n",
    "    scores = cross_val_score(estimator=ridge, X=X_train, y=y_train, cv=10)\n",
    "    cv_scores.append((alpha, scores.mean()))\n",
    "                     \n",
    "print(cv_scores)"
   ]
  },
  {
   "cell_type": "code",
   "execution_count": 88,
   "metadata": {},
   "outputs": [],
   "source": [
    "from sklearn.preprocessing import StandardScaler"
   ]
  },
  {
   "cell_type": "code",
   "execution_count": 89,
   "metadata": {},
   "outputs": [],
   "source": [
    "# de-mean and divide by the std\n",
    "sc = StandardScaler()"
   ]
  },
  {
   "cell_type": "code",
   "execution_count": 90,
   "metadata": {},
   "outputs": [
    {
     "data": {
      "text/plain": [
       "array([[-0.41174958, -0.48041482, -0.07436025, ...,  0.08173983,\n",
       "         0.37599244, -0.44009701],\n",
       "       [-0.42850904,  1.46175584, -1.10728653, ..., -1.47767444,\n",
       "         0.32970292, -1.11493712],\n",
       "       [-0.42044068, -0.48041482, -0.36762464, ...,  1.13663771,\n",
       "         0.30584965,  0.21215431],\n",
       "       ...,\n",
       "       [-0.40058181, -0.48041482, -0.53809359, ...,  0.54039108,\n",
       "         0.34647107, -0.11961855],\n",
       "       [ 1.06773675, -0.48041482,  1.01057351, ...,  0.81558184,\n",
       "         0.41460641,  1.84842981],\n",
       "       [-0.42807611,  2.10914606, -1.36010066, ..., -0.05585555,\n",
       "         0.36064133, -0.67727931]])"
      ]
     },
     "execution_count": 90,
     "metadata": {},
     "output_type": "execute_result"
    }
   ],
   "source": [
    "sc.fit_transform(X_train)"
   ]
  },
  {
   "cell_type": "code",
   "execution_count": 91,
   "metadata": {},
   "outputs": [
    {
     "data": {
      "text/plain": [
       "array([[ 1.43961437, -0.48041482,  1.01057351, ...,  0.81558184,\n",
       "        -2.15422575,  1.01546817],\n",
       "       [-0.41193809,  0.46909083, -0.75768071, ...,  0.31106546,\n",
       "         0.16946089, -0.34409465],\n",
       "       [ 0.85174637, -0.48041482,  1.01057351, ...,  0.81558184,\n",
       "        -0.27902787,  2.45409175],\n",
       "       ...,\n",
       "       [-0.41070171,  0.46909083, -0.75768071, ...,  0.31106546,\n",
       "         0.12635968, -0.01232179],\n",
       "       [ 3.28801671, -0.48041482,  1.01057351, ...,  0.81558184,\n",
       "        -1.78095746,  1.05782215],\n",
       "       [-0.43156555, -0.48041482,  0.40237496, ..., -0.92729293,\n",
       "         0.36619135,  0.13026995]])"
      ]
     },
     "execution_count": 91,
     "metadata": {},
     "output_type": "execute_result"
    }
   ],
   "source": [
    "# scales the test data based on the saved values of the fit_transform of the training data\n",
    "sc.transform(X_test)"
   ]
  },
  {
   "cell_type": "markdown",
   "metadata": {},
   "source": []
  },
  {
   "cell_type": "code",
   "execution_count": 92,
   "metadata": {},
   "outputs": [],
   "source": [
    "from sklearn.pipeline import make_pipeline\n",
    "\n",
    "pipe = make_pipeline(sc, ridge)"
   ]
  },
  {
   "cell_type": "code",
   "execution_count": 93,
   "metadata": {},
   "outputs": [
    {
     "data": {
      "text/plain": [
       "Pipeline(memory=None,\n",
       "         steps=[('standardscaler',\n",
       "                 StandardScaler(copy=True, with_mean=True, with_std=True)),\n",
       "                ('ridge',\n",
       "                 Ridge(alpha=1000.0, copy_X=True, fit_intercept=True,\n",
       "                       max_iter=None, normalize=False, random_state=None,\n",
       "                       solver='auto', tol=0.001))],\n",
       "         verbose=False)"
      ]
     },
     "execution_count": 93,
     "metadata": {},
     "output_type": "execute_result"
    }
   ],
   "source": [
    "pipe.fit(X_train, y_train)"
   ]
  },
  {
   "cell_type": "code",
   "execution_count": 94,
   "metadata": {},
   "outputs": [
    {
     "data": {
      "text/plain": [
       "array([18.61264065, 23.89790735, 15.82072225, 28.75573419, 24.58108404,\n",
       "       21.64373018, 25.77068315, 20.98322869, 17.58047018, 26.54314078,\n",
       "       26.44676788, 18.5774517 , 24.03534795, 29.14314292, 17.03786231,\n",
       "       22.40026083, 16.51113464, 24.27901034, 24.33089874, 20.40845662,\n",
       "       20.0796294 , 27.94456949, 21.51710373, 26.56935474, 13.47772384,\n",
       "       13.55908443, 24.76264396, 17.52142434, 27.26478773, 16.04421386,\n",
       "       24.35386863, 26.65069337,  8.93148912, 23.99402339, 21.56455087,\n",
       "       21.27218598, 22.69843435, 26.01496891, 20.6671905 , 19.93064201,\n",
       "       24.21619577, 22.95094889, 18.48129859, 28.73518767, 23.5413658 ,\n",
       "       20.55739241, 25.69356749, 17.02217011, 24.79941937, 28.51961884,\n",
       "       27.91167077, 26.80403418, 21.51148124, 17.70720884, 21.04360456,\n",
       "       20.38147824, 26.75038983, 16.77632644, 14.98816647, 26.99365064,\n",
       "       26.16070614, 22.6521418 , 24.98754039, 31.35443201, 29.0090383 ,\n",
       "       25.23111745, 20.87503055, 13.22944049, 16.59776031, 22.50549782,\n",
       "       24.7230932 , 24.54194909, 26.62645713, 21.54041567, 23.11131124,\n",
       "       23.7852146 , 19.48965406, 27.56967454, 25.96765974, 23.54496783,\n",
       "       22.66613452, 16.33129174, 26.83493187, 28.74040237, 28.90360043,\n",
       "       18.49164991, 20.50889805, 21.87290388, 27.38707636, 18.42247257,\n",
       "       18.35033175, 20.96873974, 23.8554389 , 20.41679016, 23.21054368,\n",
       "       24.70182075, 16.53315504, 32.43037419, 21.1503009 , 22.33291908,\n",
       "       14.77004267, 24.36669265])"
      ]
     },
     "execution_count": 94,
     "metadata": {},
     "output_type": "execute_result"
    }
   ],
   "source": [
    "pipe.predict(X_test)"
   ]
  },
  {
   "cell_type": "code",
   "execution_count": 96,
   "metadata": {},
   "outputs": [
    {
     "data": {
      "text/plain": [
       "array([-0.41102217,  0.34631513, -0.47275168,  0.32374893, -0.38675001,\n",
       "        1.32504404, -0.28189751, -0.10065558, -0.192641  , -0.41801734,\n",
       "       -0.76629843,  0.35932775, -1.21315623])"
      ]
     },
     "execution_count": 96,
     "metadata": {},
     "output_type": "execute_result"
    }
   ],
   "source": [
    "ridge.coef_"
   ]
  },
  {
   "cell_type": "code",
   "execution_count": null,
   "metadata": {},
   "outputs": [],
   "source": []
  },
  {
   "cell_type": "code",
   "execution_count": null,
   "metadata": {},
   "outputs": [],
   "source": []
  },
  {
   "cell_type": "code",
   "execution_count": null,
   "metadata": {},
   "outputs": [],
   "source": []
  },
  {
   "cell_type": "code",
   "execution_count": null,
   "metadata": {},
   "outputs": [],
   "source": []
  }
 ],
 "metadata": {
  "kernelspec": {
   "display_name": "Python 3",
   "language": "python",
   "name": "python3"
  },
  "language_info": {
   "codemirror_mode": {
    "name": "ipython",
    "version": 3
   },
   "file_extension": ".py",
   "mimetype": "text/x-python",
   "name": "python",
   "nbconvert_exporter": "python",
   "pygments_lexer": "ipython3",
   "version": "3.6.5"
  }
 },
 "nbformat": 4,
 "nbformat_minor": 4
}
