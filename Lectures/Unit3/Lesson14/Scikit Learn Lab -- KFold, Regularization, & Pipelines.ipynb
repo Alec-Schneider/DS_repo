{
 "cells": [
  {
   "cell_type": "markdown",
   "metadata": {},
   "source": [
    "### Lab: KFold, Regularization, & Pipelines\n",
    "\n",
    "Welcome!  This lab is going to introduce us to some very important aspects of data processing and model building.  \n",
    "\n",
    "Specifically, it's going to go over the following:\n",
    "\n",
    " - **KFold Cross Validation:** This is a more thorough way of choosing your validation set to give you a better idea of how your model might perform under various circumstances within your training data.\n",
    " - **Regularization:** This is an evergreen technique for dealing with models that are overfit (ie, higher scores on training vs. test data).  Regularized linear models are often much better prepared to handle messy data & outliers when using this technique.\n",
    " - **Pipelines:** (Time permitting!) This is an underappreciated aspect of the Scikit-Learn api that allows you to chain together multiple data processing steps, making it much easier to test different models and work seamlessly between your training & test sets."
   ]
  },
  {
   "cell_type": "markdown",
   "metadata": {},
   "source": [
    "**Note:** This lab builds off of the one performed in the last class.  As such, it might be easier just to keep working in your previous lab to answer these questions.  It assumes you already have your data processed from the iowa housing lab.  \n",
    "\n",
    "The questions are listed here just to make the separation of concerns easier."
   ]
  },
  {
   "cell_type": "markdown",
   "metadata": {},
   "source": [
    "### Question 1: How Does Your Validation Score Differ Using KFold Cross Validation?\n",
    "\n",
    "Take a look at the validation score you got from your previous exercise.  \n",
    "\n",
    "This time, run your model through KFold cross validation using `cross_val_score`.  Is your total validation score appreciably different?  What were your highest and lowest values?\n",
    "\n",
    "What if you changed your number of folds?  Try using 5, 10, & 25 folds."
   ]
  },
  {
   "cell_type": "code",
   "execution_count": 4,
   "metadata": {},
   "outputs": [],
   "source": [
    "# your answer here# these are the steps from the previous lab\n",
    "import pandas as pd\n",
    "import numpy as np\n",
    "train = pd.read_csv('../data/train.csv')\n",
    "test  = pd.read_csv('../data/test.csv')\n",
    "\n",
    "# your answer here\n",
    "y = train['SalePrice']\n",
    "train.drop('SalePrice', axis=1, inplace=True)\n",
    "train.drop('Id', axis=1, inplace=True)\n",
    "test.drop('Id', axis=1, inplace=True)\n",
    "\n",
    "train_empty = train.loc[:, train.isnull().sum() > 0]\n",
    "# grab the columns\n",
    "cols = train_empty.columns.tolist()\n",
    "# fill with the appropriate value  -- NA, Other, could also work\n",
    "train[['GarageType', 'GarageFinish']] = train[['GarageType', 'GarageFinish']].fillna('None')\n",
    "test[['GarageType', 'GarageFinish']]  = test[['GarageType', 'GarageFinish']].fillna('None')\n",
    "\n",
    "# we'll use this for GarageYrBlt since it's a numeric column\n",
    "train['GarageYrBlt'].fillna(0, inplace=True)\n",
    "test['GarageYrBlt'].fillna(0, inplace=True)\n",
    "\n",
    "# finding the values to use in the training set\n",
    "ms_mode   = train['MSZoning'].mode()[0]\n",
    "gcarsmean = train['GarageCars'].mean()\n",
    "\n",
    "# and applying them to the test set\n",
    "test['MSZoning'].fillna(ms_mode, inplace=True)\n",
    "test['GarageCars'].fillna(gcarsmean, inplace=True)\n",
    "\n",
    "# your code here\n",
    "# we'll assume the GarageFinish is ordinal.  Ie, FinishedGarage > Unfinished Garage\n",
    "garage_mapping = {\n",
    "    'None': 0, # no garage\n",
    "    'Unf' : 1, # unfinished garage\n",
    "    'RFn' : 2, # partially finished garage\n",
    "    'Fin' : 3  # finished garage\n",
    "}\n",
    "\n",
    "train['GarageFinish'] = train['GarageFinish'].map(garage_mapping)\n",
    "test['GarageFinish']  = test['GarageFinish'].map(garage_mapping)\n",
    "\n",
    "# MSSubClass is really a category, moreso than a true number\n",
    "# so we'll add it to the list of items to be encoded\n",
    "train['MSSubClass'] = train['MSSubClass'].astype(str)\n",
    "test['MSSubClass']  = test['MSSubClass'].astype(str)\n",
    "\n",
    "# concatenate and encode\n",
    "master = pd.concat([train, test])\n",
    "master = pd.get_dummies(master)\n",
    "\n",
    "# drop MSSubClass150\n",
    "master.drop('MSSubClass_150', axis=1, inplace=True)\n",
    "\n",
    "# and split back apart\n",
    "train  = master.iloc[:1460].copy()\n",
    "test   = master.iloc[1460:].copy()\n",
    "\n",
    "# save these values, to use on both your training and test set\n",
    "train_means = train.mean()\n",
    "train_stds  = train.std()\n",
    "\n",
    "# standardize the training set\n",
    "train -= train_means\n",
    "train /= train_stds\n",
    "\n",
    "# and do the same for the test set\n",
    "test -= train_means\n",
    "test /= train_stds"
   ]
  },
  {
   "cell_type": "code",
   "execution_count": 6,
   "metadata": {},
   "outputs": [
    {
     "data": {
      "text/plain": [
       "0    208500\n",
       "1    181500\n",
       "2    223500\n",
       "3    140000\n",
       "4    250000\n",
       "Name: SalePrice, dtype: int64"
      ]
     },
     "execution_count": 6,
     "metadata": {},
     "output_type": "execute_result"
    }
   ],
   "source": [
    "y.head()"
   ]
  },
  {
   "cell_type": "code",
   "execution_count": 5,
   "metadata": {},
   "outputs": [
    {
     "data": {
      "text/html": [
       "<div>\n",
       "<style scoped>\n",
       "    .dataframe tbody tr th:only-of-type {\n",
       "        vertical-align: middle;\n",
       "    }\n",
       "\n",
       "    .dataframe tbody tr th {\n",
       "        vertical-align: top;\n",
       "    }\n",
       "\n",
       "    .dataframe thead th {\n",
       "        text-align: right;\n",
       "    }\n",
       "</style>\n",
       "<table border=\"1\" class=\"dataframe\">\n",
       "  <thead>\n",
       "    <tr style=\"text-align: right;\">\n",
       "      <th></th>\n",
       "      <th>LotArea</th>\n",
       "      <th>OverallQual</th>\n",
       "      <th>OverallCond</th>\n",
       "      <th>YearBuilt</th>\n",
       "      <th>GrLivArea</th>\n",
       "      <th>1stFlrSF</th>\n",
       "      <th>2ndFlrSF</th>\n",
       "      <th>GrLivArea.1</th>\n",
       "      <th>FullBath</th>\n",
       "      <th>HalfBath</th>\n",
       "      <th>...</th>\n",
       "      <th>Neighborhood_StoneBr</th>\n",
       "      <th>Neighborhood_Timber</th>\n",
       "      <th>Neighborhood_Veenker</th>\n",
       "      <th>GarageType_2Types</th>\n",
       "      <th>GarageType_Attchd</th>\n",
       "      <th>GarageType_Basment</th>\n",
       "      <th>GarageType_BuiltIn</th>\n",
       "      <th>GarageType_CarPort</th>\n",
       "      <th>GarageType_Detchd</th>\n",
       "      <th>GarageType_None</th>\n",
       "    </tr>\n",
       "  </thead>\n",
       "  <tbody>\n",
       "    <tr>\n",
       "      <th>0</th>\n",
       "      <td>-0.207071</td>\n",
       "      <td>0.651256</td>\n",
       "      <td>-0.517023</td>\n",
       "      <td>1.050634</td>\n",
       "      <td>0.370207</td>\n",
       "      <td>-0.793162</td>\n",
       "      <td>1.161454</td>\n",
       "      <td>0.370207</td>\n",
       "      <td>0.789470</td>\n",
       "      <td>1.227165</td>\n",
       "      <td>...</td>\n",
       "      <td>-0.131946</td>\n",
       "      <td>-0.163415</td>\n",
       "      <td>-0.087099</td>\n",
       "      <td>-0.064216</td>\n",
       "      <td>0.823223</td>\n",
       "      <td>-0.114788</td>\n",
       "      <td>-0.253172</td>\n",
       "      <td>-0.07873</td>\n",
       "      <td>-0.600353</td>\n",
       "      <td>-0.242277</td>\n",
       "    </tr>\n",
       "    <tr>\n",
       "      <th>1</th>\n",
       "      <td>-0.091855</td>\n",
       "      <td>-0.071812</td>\n",
       "      <td>2.178881</td>\n",
       "      <td>0.156680</td>\n",
       "      <td>-0.482347</td>\n",
       "      <td>0.257052</td>\n",
       "      <td>-0.794891</td>\n",
       "      <td>-0.482347</td>\n",
       "      <td>0.789470</td>\n",
       "      <td>-0.761360</td>\n",
       "      <td>...</td>\n",
       "      <td>-0.131946</td>\n",
       "      <td>-0.163415</td>\n",
       "      <td>11.473319</td>\n",
       "      <td>-0.064216</td>\n",
       "      <td>0.823223</td>\n",
       "      <td>-0.114788</td>\n",
       "      <td>-0.253172</td>\n",
       "      <td>-0.07873</td>\n",
       "      <td>-0.600353</td>\n",
       "      <td>-0.242277</td>\n",
       "    </tr>\n",
       "    <tr>\n",
       "      <th>2</th>\n",
       "      <td>0.073455</td>\n",
       "      <td>0.651256</td>\n",
       "      <td>-0.517023</td>\n",
       "      <td>0.984415</td>\n",
       "      <td>0.514836</td>\n",
       "      <td>-0.627611</td>\n",
       "      <td>1.188943</td>\n",
       "      <td>0.514836</td>\n",
       "      <td>0.789470</td>\n",
       "      <td>1.227165</td>\n",
       "      <td>...</td>\n",
       "      <td>-0.131946</td>\n",
       "      <td>-0.163415</td>\n",
       "      <td>-0.087099</td>\n",
       "      <td>-0.064216</td>\n",
       "      <td>0.823223</td>\n",
       "      <td>-0.114788</td>\n",
       "      <td>-0.253172</td>\n",
       "      <td>-0.07873</td>\n",
       "      <td>-0.600353</td>\n",
       "      <td>-0.242277</td>\n",
       "    </tr>\n",
       "    <tr>\n",
       "      <th>3</th>\n",
       "      <td>-0.096864</td>\n",
       "      <td>0.651256</td>\n",
       "      <td>-0.517023</td>\n",
       "      <td>-1.862993</td>\n",
       "      <td>0.383528</td>\n",
       "      <td>-0.521555</td>\n",
       "      <td>0.936955</td>\n",
       "      <td>0.383528</td>\n",
       "      <td>-1.025689</td>\n",
       "      <td>-0.761360</td>\n",
       "      <td>...</td>\n",
       "      <td>-0.131946</td>\n",
       "      <td>-0.163415</td>\n",
       "      <td>-0.087099</td>\n",
       "      <td>-0.064216</td>\n",
       "      <td>-1.213905</td>\n",
       "      <td>-0.114788</td>\n",
       "      <td>-0.253172</td>\n",
       "      <td>-0.07873</td>\n",
       "      <td>1.664545</td>\n",
       "      <td>-0.242277</td>\n",
       "    </tr>\n",
       "    <tr>\n",
       "      <th>4</th>\n",
       "      <td>0.375020</td>\n",
       "      <td>1.374324</td>\n",
       "      <td>-0.517023</td>\n",
       "      <td>0.951306</td>\n",
       "      <td>1.298881</td>\n",
       "      <td>-0.045596</td>\n",
       "      <td>1.617323</td>\n",
       "      <td>1.298881</td>\n",
       "      <td>0.789470</td>\n",
       "      <td>1.227165</td>\n",
       "      <td>...</td>\n",
       "      <td>-0.131946</td>\n",
       "      <td>-0.163415</td>\n",
       "      <td>-0.087099</td>\n",
       "      <td>-0.064216</td>\n",
       "      <td>0.823223</td>\n",
       "      <td>-0.114788</td>\n",
       "      <td>-0.253172</td>\n",
       "      <td>-0.07873</td>\n",
       "      <td>-0.600353</td>\n",
       "      <td>-0.242277</td>\n",
       "    </tr>\n",
       "  </tbody>\n",
       "</table>\n",
       "<p>5 rows × 65 columns</p>\n",
       "</div>"
      ],
      "text/plain": [
       "    LotArea  OverallQual  OverallCond  YearBuilt  GrLivArea  1stFlrSF  \\\n",
       "0 -0.207071     0.651256    -0.517023   1.050634   0.370207 -0.793162   \n",
       "1 -0.091855    -0.071812     2.178881   0.156680  -0.482347  0.257052   \n",
       "2  0.073455     0.651256    -0.517023   0.984415   0.514836 -0.627611   \n",
       "3 -0.096864     0.651256    -0.517023  -1.862993   0.383528 -0.521555   \n",
       "4  0.375020     1.374324    -0.517023   0.951306   1.298881 -0.045596   \n",
       "\n",
       "   2ndFlrSF  GrLivArea.1  FullBath  HalfBath  ...  Neighborhood_StoneBr  \\\n",
       "0  1.161454     0.370207  0.789470  1.227165  ...             -0.131946   \n",
       "1 -0.794891    -0.482347  0.789470 -0.761360  ...             -0.131946   \n",
       "2  1.188943     0.514836  0.789470  1.227165  ...             -0.131946   \n",
       "3  0.936955     0.383528 -1.025689 -0.761360  ...             -0.131946   \n",
       "4  1.617323     1.298881  0.789470  1.227165  ...             -0.131946   \n",
       "\n",
       "   Neighborhood_Timber  Neighborhood_Veenker  GarageType_2Types  \\\n",
       "0            -0.163415             -0.087099          -0.064216   \n",
       "1            -0.163415             11.473319          -0.064216   \n",
       "2            -0.163415             -0.087099          -0.064216   \n",
       "3            -0.163415             -0.087099          -0.064216   \n",
       "4            -0.163415             -0.087099          -0.064216   \n",
       "\n",
       "   GarageType_Attchd  GarageType_Basment  GarageType_BuiltIn  \\\n",
       "0           0.823223           -0.114788           -0.253172   \n",
       "1           0.823223           -0.114788           -0.253172   \n",
       "2           0.823223           -0.114788           -0.253172   \n",
       "3          -1.213905           -0.114788           -0.253172   \n",
       "4           0.823223           -0.114788           -0.253172   \n",
       "\n",
       "   GarageType_CarPort  GarageType_Detchd  GarageType_None  \n",
       "0            -0.07873          -0.600353        -0.242277  \n",
       "1            -0.07873          -0.600353        -0.242277  \n",
       "2            -0.07873          -0.600353        -0.242277  \n",
       "3            -0.07873           1.664545        -0.242277  \n",
       "4            -0.07873          -0.600353        -0.242277  \n",
       "\n",
       "[5 rows x 65 columns]"
      ]
     },
     "execution_count": 5,
     "metadata": {},
     "output_type": "execute_result"
    }
   ],
   "source": [
    "train.head()"
   ]
  },
  {
   "cell_type": "code",
   "execution_count": 12,
   "metadata": {},
   "outputs": [],
   "source": [
    "from sklearn.model_selection import cross_val_score\n",
    "from sklearn.linear_model import LinearRegression\n",
    "\n",
    "lr = LinearRegression()\n",
    "cvs = [5, 10, 25]\n",
    "cv5 = cross_val_score(lr, X=train, y=y, cv=cvs[0])\n",
    "cv10 = cross_val_score(lr, X=train, y=y, cv=cvs[1])\n",
    "cv25 = cross_val_score(lr, X=train, y=y, cv=cvs[2])\n",
    "cv_scores = [cross_val_score(lr, X=train, y=y, cv=i) for i in cvs]"
   ]
  },
  {
   "cell_type": "code",
   "execution_count": 11,
   "metadata": {},
   "outputs": [
    {
     "name": "stdout",
     "output_type": "stream",
     "text": [
      "5 fold CV:\n",
      "-------------------------\n",
      "[0.8672403  0.82996498 0.82988874 0.82259029 0.73647959]\n",
      "\n",
      "\n",
      "0.7364795903283214 0.8672403027527855 0.04329622420683497\n",
      "10 fold CV:\n",
      "-------------------------\n",
      "[0.8698292  0.86872385 0.90039109 0.77416761 0.82789523 0.83483228\n",
      " 0.81937276 0.81978263 0.6624736  0.85162283]\n",
      "\n",
      "\n",
      "0.662473603885437 0.9003910944086757 0.06279570903763354\n",
      "25 fold CV:\n",
      "-------------------------\n",
      "[0.89169958 0.82401953 0.8775956  0.86142958 0.90050608 0.90731896\n",
      " 0.89265571 0.81764167 0.74547212 0.79276342 0.87300321 0.80286892\n",
      " 0.81504411 0.82404576 0.91093031 0.7844823  0.87247875 0.84910225\n",
      " 0.76934216 0.81469008 0.74870837 0.86497941 0.11783357 0.87003587\n",
      " 0.87715818]\n",
      "\n",
      "\n",
      "0.11783356871476669 0.9109303091746784 0.14955288003945627\n"
     ]
    }
   ],
   "source": [
    "print('5 fold CV:', '-'*25, cv5, '\\n', sep='\\n')\n",
    "print(cv5.min(), cv5.max(), cv5.std())\n",
    "print('10 fold CV:', '-'*25, cv10, '\\n', sep='\\n')\n",
    "print(cv10.min(), cv10.max(), cv10.std())\n",
    "print('25 fold CV:', '-'*25, cv25, '\\n', sep='\\n')\n",
    "print(cv25.min(), cv25.max(), cv25.std())"
   ]
  },
  {
   "cell_type": "code",
   "execution_count": 13,
   "metadata": {},
   "outputs": [],
   "source": [
    "cvdict = {}\n",
    "for cv, fold in zip(cvs, cv_scores):\n",
    "    cvdict[cv] = fold.mean()"
   ]
  },
  {
   "cell_type": "code",
   "execution_count": 14,
   "metadata": {},
   "outputs": [
    {
     "data": {
      "text/plain": [
       "{5: 0.8172327811582084, 10: 0.8229091090102086, 25: 0.8122322198428682}"
      ]
     },
     "execution_count": 14,
     "metadata": {},
     "output_type": "execute_result"
    }
   ],
   "source": [
    "cvdict"
   ]
  },
  {
   "cell_type": "code",
   "execution_count": 28,
   "metadata": {},
   "outputs": [
    {
     "data": {
      "text/plain": [
       "<matplotlib.axes._subplots.AxesSubplot at 0x18203fbd358>"
      ]
     },
     "execution_count": 28,
     "metadata": {},
     "output_type": "execute_result"
    },
    {
     "data": {
      "image/png": "[encoded data removed]",
      "text/plain": [
       "<Figure size 576x576 with 3 Axes>"
      ]
     },
     "metadata": {},
     "output_type": "display_data"
    }
   ],
   "source": [
    "import matplotlib.pyplot as plt\n",
    "plt.style.use('seaborn-whitegrid')\n",
    "fig, ax = plt.subplots(3, figsize=(8,8))\n",
    "np.log(y).hist(ax=ax[0])\n",
    "np.log10(y).hist(ax=ax[1])\n",
    "y.hist(ax=ax[2])\n"
   ]
  },
  {
   "cell_type": "code",
   "execution_count": 29,
   "metadata": {},
   "outputs": [],
   "source": [
    "cv_scores_log = [cross_val_score(lr, X=train, y=np.log(y), cv=i) for i in cvs]"
   ]
  },
  {
   "cell_type": "code",
   "execution_count": 33,
   "metadata": {},
   "outputs": [
    {
     "name": "stdout",
     "output_type": "stream",
     "text": [
      "{5: {'mean': 0.8650290415468866, 'median': 0.8697462682984962, 'std': 0.028310257006966204}, 10: {'mean': 0.8628872554110364, 'median': 0.8750473805855438, 'std': 0.051933884093512926}, 25: {'mean': 0.8618427057374928, 'median': 0.8825837190524161, 'std': 0.08323319826071719}}\n"
     ]
    }
   ],
   "source": [
    "cv_log_dict = {}\n",
    "for folds, scores in zip(cvs, cv_scores_log):\n",
    "    cv_log_dict[folds] = {'mean': scores.mean(),\n",
    "                          'median': np.median(scores),\n",
    "                          'std': scores.std()}\n",
    "    \n",
    "print(cv_log_dict)"
   ]
  },
  {
   "cell_type": "markdown",
   "metadata": {},
   "source": [
    "### Question 2: Updating Your Model With Ridge & Lasso Regression\n",
    "\n",
    "Instead of using Linear Regression, import `Ridge` or `Lasso`, and use cross validation to find the ideal value of alpha.  \n",
    "\n",
    "Some basic tips:\n",
    "\n",
    "For values of alpha try this:  `alphas = np.logspace(-4, 4, 9)`\n",
    "Then write a `for-loop` that generically goes like this:\n",
    "\n",
    "`for value in alphas:\n",
    "    1). set value of alpha to current value using set_params() method\n",
    "    2). pass in instance of Ridge or Lasso into cross_val_score\n",
    "    3). using a tuple, append the average of all results from step 2 into a list, along with the value of alpha`\n",
    "    \n",
    "When you're finished, you should have a list that has 9 tuples inside it, each one with the average cross validation score as well as the value of alpha associated with it."
   ]
  },
  {
   "cell_type": "code",
   "execution_count": 44,
   "metadata": {},
   "outputs": [],
   "source": [
    "from sklearn.linear_model import Lasso, Ridge\n",
    "\n",
    "lasso = Lasso()\n",
    "ridge = Ridge()"
   ]
  },
  {
   "cell_type": "code",
   "execution_count": 47,
   "metadata": {},
   "outputs": [
    {
     "name": "stderr",
     "output_type": "stream",
     "text": [
      "C:\\Anaconda3\\lib\\site-packages\\sklearn\\linear_model\\_coordinate_descent.py:476: ConvergenceWarning: Objective did not converge. You might want to increase the number of iterations. Duality gap: 0.02621377476420861, tolerance: 0.02100187174002019\n",
      "  positive)\n"
     ]
    }
   ],
   "source": [
    "alphas = np.logspace(-4, 4, num=9)\n",
    "lasso_scores = []\n",
    "ridge_scores = []\n",
    "\n",
    "for alpha in alphas:\n",
    "    lasso.set_params(alpha=alpha)\n",
    "    lasso_scores.append((cross_val_score(lasso, train, np.log(y), cv=10).mean(), alpha))\n",
    "    ridge.set_params(alpha=alpha)\n",
    "    ridge_scores.append((cross_val_score(ridge, X=train, y=np.log(y), cv=10).mean(), alpha))"
   ]
  },
  {
   "cell_type": "code",
   "execution_count": 50,
   "metadata": {},
   "outputs": [
    {
     "name": "stdout",
     "output_type": "stream",
     "text": [
      "[(0.8634425048822774, 0.0001), (0.864191084904902, 0.001), (0.8544354808965491, 0.01), (0.6909458322110515, 0.1), (-0.007368842975429635, 1.0), (-0.007368842975429635, 10.0), (-0.007368842975429635, 100.0), (-0.007368842975429635, 1000.0), (-0.007368842975429635, 10000.0)]\n",
      "0.001\n"
     ]
    }
   ],
   "source": [
    "print(*lasso_scores, sep='\\n')\n",
    "print(max(lasso_scores)[1])"
   ]
  },
  {
   "cell_type": "code",
   "execution_count": 52,
   "metadata": {},
   "outputs": [
    {
     "name": "stdout",
     "output_type": "stream",
     "text": [
      "(0.8628836012707453, 0.0001)\n",
      "(0.8628843968787981, 0.001)\n",
      "(0.862892212874151, 0.01)\n",
      "(0.8629586815873479, 0.1)\n",
      "(0.8632282377170221, 1.0)\n",
      "(0.8637818510552357, 10.0)\n",
      "(0.8652092706925322, 100.0)\n",
      "(0.8442515828165693, 1000.0)\n",
      "(0.584125235255362, 10000.0)\n",
      "100.0\n"
     ]
    }
   ],
   "source": [
    "print(*ridge_scores, sep='\\n')\n",
    "print(max(ridge_scores)[1])"
   ]
  },
  {
   "cell_type": "code",
   "execution_count": null,
   "metadata": {},
   "outputs": [],
   "source": []
  },
  {
   "cell_type": "code",
   "execution_count": null,
   "metadata": {},
   "outputs": [],
   "source": []
  },
  {
   "cell_type": "markdown",
   "metadata": {},
   "source": [
    "**Bonus:** In Scikit-Learn cross validation is sometimes built into algorithms automatically.  Luckily this is the case with `Ridge` and `Lasso`.  If you're inclined to take a look at the `RidgeCV` and `LassoCV` methods, you can basically combine what we just did into one step.\n",
    "\n",
    "**Note:** These aren't always available, and they don't always work in the same way, so remember that they won't always be an option.\n",
    "\n",
    "**RidgeCV:** https://scikit-learn.org/stable/modules/generated/sklearn.linear_model.RidgeCV.html\n",
    "**LassoCV:** https://scikit-learn.org/stable/modules/generated/sklearn.linear_model.LassoCV.html"
   ]
  },
  {
   "cell_type": "markdown",
   "metadata": {},
   "source": [
    "### Step 3: Building A Pipeline\n",
    "\n",
    "Let's try building some pipelines to test out different versions of our models more easily.  \n",
    "\n",
    "For this one, we are going to start fresh a little bit to get the hang of using our pipelines, and to go through the entire process.\n",
    "\n",
    "So......"
   ]
  },
  {
   "cell_type": "markdown",
   "metadata": {},
   "source": [
    "**a)** Reload the training and test sets\n",
    "\n",
    " - create a new variable for `y`, and set it equal to the log of `SalePrice`\n",
    " - create a variable for the `id` column in the test set -- this will be reused later"
   ]
  },
  {
   "cell_type": "code",
   "execution_count": 100,
   "metadata": {},
   "outputs": [],
   "source": [
    "train = pd.read_csv('../data/train.csv')\n",
    "test = pd.read_csv('../data/test.csv')"
   ]
  },
  {
   "cell_type": "code",
   "execution_count": 101,
   "metadata": {},
   "outputs": [],
   "source": [
    "X = train.drop('SalePrice', axis=1)\n",
    "y = train['SalePrice']\n",
    "y = np.log(y)\n",
    "X.drop('Id', axis=1, inplace=True)\n",
    "test.drop('Id', axis=1, inplace=True)"
   ]
  },
  {
   "cell_type": "code",
   "execution_count": null,
   "metadata": {},
   "outputs": [],
   "source": []
  },
  {
   "cell_type": "markdown",
   "metadata": {},
   "source": [
    "**b)** Fill in the missing data on training & test\n",
    "\n",
    "**Note:** If you feel like you have a good handle on this, you can just copy and paste from your previous solutions or the lab manual.  \n",
    "\n",
    "If you have the time and think you need extra practice, feel free to try and re-create the results on your own.....just be mindful of time."
   ]
  },
  {
   "cell_type": "code",
   "execution_count": 102,
   "metadata": {},
   "outputs": [],
   "source": [
    "X_empty = train.loc[:, train.isnull().sum() > 0]\n",
    "col = X_empty.columns.to_list()\n",
    "\n",
    "X[['GarageType', 'GarageFinish']] = X[['GarageType', 'GarageFinish']].fillna('None')\n",
    "test[['GarageType', 'GarageFinish']] = test[['GarageType', 'GarageFinish']].fillna('None')\n",
    "\n",
    "X['GarageYrBlt'].fillna(0, inplace=True)\n",
    "test['GarageYrBlt'].fillna(0, inplace=True)\n",
    "\n",
    "# finding the values to use in the training set\n",
    "ms_mode   = X['MSZoning'].mode()[0]\n",
    "gcarsmean = X['GarageCars'].mean()\n",
    "\n",
    "# and applying them to the test set\n",
    "test['MSZoning'].fillna(ms_mode, inplace=True)\n",
    "test['GarageCars'].fillna(gcarsmean, inplace=True)\n",
    "\n",
    "# your code here\n",
    "# we'll assume the GarageFinish is ordinal.  Ie, FinishedGarage > Unfinished Garage\n",
    "# garage_mapping = {\n",
    "#     'None': 0, # no garage\n",
    "#     'Unf' : 1, # unfinished garage\n",
    "#     'RFn' : 2, # partially finished garage\n",
    "#     'Fin' : 3  # finished garage\n",
    "# }\n",
    "\n",
    "# X['GarageFinish'] = X['GarageFinish'].map(garage_mapping)\n",
    "# test['GarageFinish']  = test['GarageFinish'].map(garage_mapping)\n",
    "\n"
   ]
  },
  {
   "cell_type": "markdown",
   "metadata": {},
   "source": [
    "**c)** Reclassify the `MSSubClass` column as a string"
   ]
  },
  {
   "cell_type": "code",
   "execution_count": 103,
   "metadata": {},
   "outputs": [],
   "source": [
    "# MSSubClass is really a category, moreso than a true number\n",
    "# so we'll add it to the list of items to be encoded\n",
    "X['MSSubClass'] = X['MSSubClass'].astype(str)\n",
    "test['MSSubClass']  = test['MSSubClass'].astype(str)"
   ]
  },
  {
   "cell_type": "markdown",
   "metadata": {},
   "source": [
    "**d)** Create Your Pipeline!\n",
    "\n",
    "\n",
    "a). Initialize instances for each of the following items:\n",
    "\n",
    " - An ordinal encoder for the `GarageFinish` column (be careful about the mapping dictionary here)\n",
    " - A categorical encoder for your nominal columns\n",
    " - The standard scaler\n",
    " - Lasso or Ridge regression, with the cross validated value of alpha from the previous exercise"
   ]
  },
  {
   "cell_type": "code",
   "execution_count": 104,
   "metadata": {},
   "outputs": [],
   "source": [
    "mapping = {\n",
    "    'col': 'GarageFinish',\n",
    "    'mapping': {\n",
    "        'None': 0, # no garage\n",
    "        'Unf' : 1, # unfinished garage\n",
    "        'RFn' : 2, # partially finished garage\n",
    "        'Fin' : 3  # finished garage\n",
    "    }\n",
    "}"
   ]
  },
  {
   "cell_type": "code",
   "execution_count": 109,
   "metadata": {},
   "outputs": [],
   "source": [
    "import category_encoders as ce\n",
    "from sklearn.pipeline import make_pipeline\n",
    "from sklearn.model_selection import cross_val_score\n",
    "from sklearn.preprocessing import StandardScaler\n",
    "from sklearn.linear_model import Ridge\n",
    "\n",
    "ridge = Ridge()\n",
    "sc = StandardScaler()\n",
    "ore = ce.OrdinalEncoder(cols=['GarageFinish'], mapping=[mapping])\n",
    "ohe = ce.OneHotEncoder()"
   ]
  },
  {
   "cell_type": "code",
   "execution_count": 110,
   "metadata": {},
   "outputs": [],
   "source": [
    "pipe = make_pipeline(ore, ohe, sc, ridge)"
   ]
  },
  {
   "cell_type": "code",
   "execution_count": 111,
   "metadata": {},
   "outputs": [],
   "source": [
    "# fit and transform the oridinal columns with the ordincal encoder\n",
    "# ore.fit_transform(X)"
   ]
  },
  {
   "cell_type": "code",
   "execution_count": 112,
   "metadata": {},
   "outputs": [
    {
     "data": {
      "text/plain": [
       "Pipeline(memory=None,\n",
       "         steps=[('ordinalencoder',\n",
       "                 OrdinalEncoder(cols=['GarageFinish'], drop_invariant=False,\n",
       "                                handle_missing='value', handle_unknown='value',\n",
       "                                mapping=[{'col': 'GarageFinish',\n",
       "                                          'mapping': {'Fin': 3, 'None': 0,\n",
       "                                                      'RFn': 2, 'Unf': 1}}],\n",
       "                                return_df=True, verbose=0)),\n",
       "                ('onehotencoder',\n",
       "                 OneHotEncoder(cols=['MSSubClass', 'MSZoning', 'Neighborhood',\n",
       "                                     'GarageType'],\n",
       "                               drop_invariant=False, handle_missing='value',\n",
       "                               handle_unknown='value', return_df=True,\n",
       "                               use_cat_names=False, verbose=0)),\n",
       "                ('standardscaler',\n",
       "                 StandardScaler(copy=True, with_mean=True, with_std=True)),\n",
       "                ('ridge',\n",
       "                 Ridge(alpha=1.0, copy_X=True, fit_intercept=True,\n",
       "                       max_iter=None, normalize=False, random_state=None,\n",
       "                       solver='auto', tol=0.001))],\n",
       "         verbose=False)"
      ]
     },
     "execution_count": 112,
     "metadata": {},
     "output_type": "execute_result"
    }
   ],
   "source": [
    "pipe.fit(X, y=y)"
   ]
  },
  {
   "cell_type": "code",
   "execution_count": null,
   "metadata": {},
   "outputs": [],
   "source": []
  },
  {
   "cell_type": "code",
   "execution_count": 115,
   "metadata": {},
   "outputs": [
    {
     "data": {
      "text/plain": [
       "array([0.87437439, 0.91234571, 0.91290423, 0.82657394, 0.86676275,\n",
       "       0.86542806, 0.8769858 , 0.89144589, 0.72653906, 0.87891162])"
      ]
     },
     "execution_count": 115,
     "metadata": {},
     "output_type": "execute_result"
    }
   ],
   "source": [
    "cross_val_score(pipe, X=X, y=y, cv=10)"
   ]
  },
  {
   "cell_type": "code",
   "execution_count": 116,
   "metadata": {},
   "outputs": [],
   "source": [
    "alphas = np.logspace(-3, 3, 7)\n",
    "cv_scores = []\n",
    "\n",
    "for alpha in alphas:\n",
    "    pipe.steps[-1][1].set_params(alpha=alpha)\n",
    "    scores = cross_val_score(estimator=pipe, X=X, y=y, cv=10)\n",
    "    cv_scores.append((np.mean(scores), alpha))"
   ]
  },
  {
   "cell_type": "code",
   "execution_count": 117,
   "metadata": {},
   "outputs": [
    {
     "data": {
      "text/plain": [
       "[(0.8628844021672876, 0.001),\n",
       " (0.8628922631891338, 0.01),\n",
       " (0.8629589887467667, 0.1),\n",
       " (0.8632271451896907, 1.0),\n",
       " (0.8637652063955132, 10.0),\n",
       " (0.8651023941990363, 100.0),\n",
       " (0.8445309718475507, 1000.0)]"
      ]
     },
     "execution_count": 117,
     "metadata": {},
     "output_type": "execute_result"
    }
   ],
   "source": [
    "cv_scores"
   ]
  },
  {
   "cell_type": "code",
   "execution_count": 118,
   "metadata": {},
   "outputs": [
    {
     "data": {
      "text/plain": [
       "(0.8651023941990363, 100.0)"
      ]
     },
     "execution_count": 118,
     "metadata": {},
     "output_type": "execute_result"
    }
   ],
   "source": [
    "max(cv_scores)"
   ]
  },
  {
   "cell_type": "markdown",
   "metadata": {},
   "source": [
    "**e)** Fit the pipeline on your training set, and predict the values on your test set\n",
    "\n",
    " - to get the \"real\" values of your prediction you would use the function `np.exp()`\n",
    " \n",
    "ie, if `pipe.predict(test)` gives you the predicted log values of your test set, then `np.exp(pipe.predict(test))` would give you the actual expected housing prices."
   ]
  },
  {
   "cell_type": "code",
   "execution_count": 120,
   "metadata": {},
   "outputs": [
    {
     "data": {
      "text/plain": [
       "array([117757.19893444, 153765.15486921, 170628.65553705, ...,\n",
       "       150764.80850924, 117678.20922137, 226557.41950875])"
      ]
     },
     "execution_count": 120,
     "metadata": {},
     "output_type": "execute_result"
    }
   ],
   "source": [
    "pipe.steps[-1][1].set_params(alpha=max(cv_scores)[1])\n",
    "\n",
    "np.exp(pipe.predict(test))"
   ]
  },
  {
   "cell_type": "code",
   "execution_count": null,
   "metadata": {},
   "outputs": [],
   "source": []
  }
 ],
 "metadata": {
  "kernelspec": {
   "display_name": "Python 3",
   "language": "python",
   "name": "python3"
  },
  "language_info": {
   "codemirror_mode": {
    "name": "ipython",
    "version": 3
   },
   "file_extension": ".py",
   "mimetype": "text/x-python",
   "name": "python",
   "nbconvert_exporter": "python",
   "pygments_lexer": "ipython3",
   "version": "3.6.5"
  }
 },
 "nbformat": 4,
 "nbformat_minor": 4
}
